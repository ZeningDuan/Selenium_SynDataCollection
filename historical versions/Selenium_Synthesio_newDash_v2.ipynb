{
 "cells": [
  {
   "cell_type": "markdown",
   "metadata": {},
   "source": [
    "# Synthesio Automation via Selenium\n",
    "\n",
    "\n",
    "Author: Zening ('Ze') Duan\n",
    "Date: 2020-01-22"
   ]
  },
  {
   "cell_type": "markdown",
   "metadata": {},
   "source": [
    "## 1. Load Packages"
   ]
  },
  {
   "cell_type": "code",
   "execution_count": 1,
   "metadata": {},
   "outputs": [],
   "source": [
    "#!pip install selenium\n",
    "import time\n",
    "import datetime\n",
    "import re\n",
    "from selenium import webdriver\n",
    "from selenium.webdriver.support.ui import Select\n",
    "from selenium.webdriver.support.ui import WebDriverWait\n",
    "from selenium.webdriver.common.by import By\n",
    "from selenium.webdriver.support import expected_conditions as EC\n",
    "from selenium.webdriver.support.select import Select\n",
    "from selenium.webdriver.common.keys import Keys\n",
    "from selenium.webdriver.common.action_chains import ActionChains\n",
    "from utlis_v5 import *\n",
    "from datetime import timedelta\n",
    "from selenium.webdriver.support.ui import WebDriverWait\n",
    "from selenium.webdriver.common.by import By\n",
    "from selenium.webdriver.support import expected_conditions as EC\n",
    "from selenium.webdriver.support.select import Select\n",
    "\n",
    "import pandas as pd"
   ]
  },
  {
   "cell_type": "markdown",
   "metadata": {},
   "source": [
    "## 2. Run"
   ]
  },
  {
   "cell_type": "markdown",
   "metadata": {},
   "source": [
    "## 2.1 Log in"
   ]
  },
  {
   "cell_type": "code",
   "execution_count": 2,
   "metadata": {},
   "outputs": [],
   "source": [
    "Username = 'XXXX' #Enter your username\n",
    "Password = 'XXXX' #Enter your password\n",
    "\n",
    "Filters = {\n",
    "           'Topics': ['all',\n",
    "                      'user_defined'\n",
    "                     ],\n",
    "           'Publisher categories': ['Twitter',\n",
    "                                   'Facebook'\n",
    "                                   ],\n",
    "           #only support non-default filters: lang and geo for this version. Update the non_default_filters dict if needed\n",
    "           'Languages': ['English'\n",
    "                         ,'Chinese'\n",
    "                        ],\n",
    "            \n",
    "           'Countries': {'North America': ['United States'],\n",
    "                         'Africa': ['Morocco', 'Algeria', 'Tunisia'],\n",
    "                         'Asia': ['India', 'Japan', 'China']\n",
    "                        }\n",
    "          } \n",
    "\n",
    "Dashboard = str('XXX')#enter your dashboard name, e.g., \"CAMER (Copy)\"\n",
    "\n",
    " \n",
    "\n",
    "Begin_date = {'Year': '2020',\n",
    "             'Month': '06',\n",
    "             'Day': '17',\n",
    "              'Hour': '00',\n",
    "              'Minute': '00'\n",
    "             }\n",
    "\n",
    "End_date = {'Year':'2020' ,\n",
    "             'Month': '06',\n",
    "             'Day': '18',\n",
    "            'Hour': '23',\n",
    "              'Minute': '59'\n",
    "           }\n",
    "\n",
    "\n",
    "Time_interval = float(1.0) #in day, change it if needed\n",
    "\n",
    "Sample = {'mode': 'head',\n",
    "                   'random'\n",
    "                  ,\n",
    "    'fraction': float(1)\n",
    "}\n",
    "\n",
    "Data_format = ['XLSX', 'CSV'][1]"
   ]
  },
  {
   "cell_type": "code",
   "execution_count": null,
   "metadata": {},
   "outputs": [
    {
     "name": "stdout",
     "output_type": "stream",
     "text": [
      "We currently have  5  Dashboards:  ['Market Research', 'MeToo', 'CAMER', 'CAMER (Copy)', 'Immigration']\n",
      "The location of the dashboard we are seeking for is: Index[ 3 ].\n",
      "2020/06/17/00:00\n",
      "The total Volume is  44909 . Data is ready to download.\n",
      "This task, we downloaded 44909 mentions.\n"
     ]
    },
    {
     "name": "stderr",
     "output_type": "stream",
     "text": [
      "/usr/local/lib/python3.7/site-packages/pandas/core/indexing.py:670: SettingWithCopyWarning: \n",
      "A value is trying to be set on a copy of a slice from a DataFrame\n",
      "\n",
      "See the caveats in the documentation: https://pandas.pydata.org/pandas-docs/stable/user_guide/indexing.html#returning-a-view-versus-a-copy\n",
      "  iloc._setitem_with_indexer(indexer, value)\n"
     ]
    },
    {
     "name": "stdout",
     "output_type": "stream",
     "text": [
      "text found\n",
      "1\n",
      "text found\n",
      "2\n",
      "text found\n",
      "3\n",
      "text found\n",
      "4\n",
      "text found\n",
      "5\n",
      "text found\n",
      "6\n",
      "text found\n",
      "7\n",
      "text found\n",
      "8\n",
      "text found\n",
      "9\n",
      "text found\n",
      "10\n",
      "text not found!\n",
      "Next round download is ready!\n",
      "This task costs 26.75min.\n",
      "2020/06/17/01:00\n",
      "The total Volume is  44038 . Data is ready to download.\n",
      "This task, we downloaded 44038 mentions.\n"
     ]
    },
    {
     "name": "stderr",
     "output_type": "stream",
     "text": [
      "/usr/local/lib/python3.7/site-packages/pandas/core/indexing.py:670: SettingWithCopyWarning: \n",
      "A value is trying to be set on a copy of a slice from a DataFrame\n",
      "\n",
      "See the caveats in the documentation: https://pandas.pydata.org/pandas-docs/stable/user_guide/indexing.html#returning-a-view-versus-a-copy\n",
      "  iloc._setitem_with_indexer(indexer, value)\n"
     ]
    },
    {
     "name": "stdout",
     "output_type": "stream",
     "text": [
      "text found\n",
      "1\n",
      "text found\n",
      "2\n",
      "text found\n",
      "3\n",
      "text found\n",
      "4\n",
      "text found\n",
      "5\n"
     ]
    }
   ],
   "source": [
    "driver = setup(Username, Password, Dashboard, Filters, Data_format, Sample)\n",
    "\n",
    "Begin_date_obj = date_obj(Begin_date) \n",
    "End_date_obj = date_obj(End_date) \n",
    "\n",
    "Delta = timedelta(days=Time_interval) \n",
    "\n",
    "\n",
    "#Run\n",
    "Current_time = Begin_date_obj\n",
    "\n",
    "while Current_time < End_date_obj:\n",
    "    try:\n",
    "        timeout = driver.find_element_by_xpath(\"/html/body/div[490]/div/div/section\") #check if the timeout page occurs\n",
    "        if 'Session timeout' == timeout.text:\n",
    "            print('Session TimeOut')\n",
    "        \n",
    "            if len(driver.window_handles) > 1:\n",
    "                driver.close()\n",
    "\n",
    "            driver.switch_to.window(driver.window_handles[0])\n",
    "            driver.execute_script(\"window.open('');\")\n",
    "            driver.switch_to.window(driver.window_handles[1])\n",
    "    \n",
    "            \"\"\"\n",
    "            #driver = webdriver.Firefox(executable_path = '/usr/local/Cellar/python/3.7.6_1/geckodriver')\n",
    "            #driver.get(\"https://app.synthesio.com/dashboard/#home/workspace/35944/projects/dashboard\")\n",
    "            #driver.execute_script('''window.open(\"https://rest.synthesio.com/login/v1/login?login_challenge=064ecd2f3d5e4443b83d8b7e4e89aa23#home/workspace/35944/projects/dashboard\", \"_blank\");''') #login URL      \n",
    "            \"\"\"\n",
    "        \n",
    "            driver = resetup(driver, Username, Password, Dashboard, Filters, Data_format, Sample)# re-set up other filters\n",
    "    \n",
    "    except:\n",
    "        pass\n",
    "    \n",
    "    print(strfdate(Current_time))\n",
    "    sampling(driver, Current_time, Delta)\n",
    "    volume_total,volume = dataexport(driver, Data_format, Sample)\n",
    "    print('volumetotal: ' + str(volume_total) + ', volume: ' + str(volume))\n",
    "\n",
    "    \n",
    "    VolumeTablePath = 'xxxxx' # type in path of the volume table\n",
    "    data = pd.read_csv(VolumeTablePath)\n",
    "    data['Volume_total'].loc[(data['Year'] == int(Current_time.year)) & (data['Month'] == int(Current_time.month)) & (data['Day'] == int(Current_time.day))] = volume_total\n",
    "    data['Volume'].loc[(data['Year'] == int(Current_time.year)) & (data['Month'] == int(Current_time.month)) & (data['Day'] == int(Current_time.day))] = volume\n",
    "    data.to_csv(VolumeTablePath, index = False)\n",
    "    \n",
    "    \n",
    "    tic = time.time()\n",
    "    #waiting\n",
    "    time.sleep(300) #change here based on the expected volume per click. e.g., 1000s for 50k (~14 mins baseline)\n",
    "\n",
    "    #status checking\n",
    "    count = 0 \n",
    "    while count < 70: #change here based on the your patience, e.g., 20 mins more\n",
    "        driver, flag = dataexportcheck(driver)\n",
    "        if flag == True:\n",
    "            print('Next round download is ready!')\n",
    "            break\n",
    "        else:\n",
    "            count += 1\n",
    "            print(count)\n",
    "            time.sleep(30)\n",
    "\n",
    "    toc = time.time()\n",
    "    print('This task costs ' + str(int(toc - tic)/60) + 'min.')\n",
    "\n",
    "    Current_time += Delta\n",
    "    "
   ]
  }
 ],
 "metadata": {
  "kernelspec": {
   "display_name": "Python 3",
   "language": "python",
   "name": "python3"
  },
  "language_info": {
   "codemirror_mode": {
    "name": "ipython",
    "version": 3
   },
   "file_extension": ".py",
   "mimetype": "text/x-python",
   "name": "python",
   "nbconvert_exporter": "python",
   "pygments_lexer": "ipython3",
   "version": "3.7.6"
  }
 },
 "nbformat": 4,
 "nbformat_minor": 4
}
