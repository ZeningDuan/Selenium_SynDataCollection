{
 "cells": [
  {
   "cell_type": "markdown",
   "metadata": {},
   "source": [
    "## Create a table for recording volume per a time interval"
   ]
  },
  {
   "cell_type": "code",
<<<<<<< HEAD
   "execution_count": 37,
=======
   "execution_count": 4,
>>>>>>> 4b84bb8a35ab49a97dbc8d85f1ce170cdfa6e287
   "metadata": {},
   "outputs": [],
   "source": [
    "import pandas as pd\n",
    "import itertools"
   ]
  },
  {
   "cell_type": "code",
<<<<<<< HEAD
   "execution_count": 38,
   "metadata": {},
   "outputs": [],
   "source": [
    "df = pd.DataFrame(columns = ['Month', 'Day', 'Hour','Volume','Difference', 'Note'])\n",
=======
   "execution_count": 13,
   "metadata": {},
   "outputs": [],
   "source": [
    "df = pd.DataFrame(columns = ['Month', 'Day', 'Hour',' Volume',' Difference', 'Note'])\n",
>>>>>>> 4b84bb8a35ab49a97dbc8d85f1ce170cdfa6e287
    "\n",
    "days = []\n",
    "for i in range(13,31):\n",
    "    days.extend([i]*24)\n",
    "    \n",
    "df.Day = days"
   ]
  },
  {
   "cell_type": "code",
<<<<<<< HEAD
   "execution_count": 39,
=======
   "execution_count": 17,
>>>>>>> 4b84bb8a35ab49a97dbc8d85f1ce170cdfa6e287
   "metadata": {},
   "outputs": [],
   "source": [
    "#set the month\n",
    "df['Month'] = 6 "
   ]
  },
  {
   "cell_type": "code",
<<<<<<< HEAD
   "execution_count": 40,
=======
   "execution_count": 31,
>>>>>>> 4b84bb8a35ab49a97dbc8d85f1ce170cdfa6e287
   "metadata": {},
   "outputs": [],
   "source": [
    "#set the hour\n",
    "hours = []\n",
    "for i in range(0,24):\n",
    "    hours.append(i)\n",
    "hours = hours*int(len(range(13,31)))\n",
    "\n",
    "df.Hour = hours"
   ]
  },
  {
   "cell_type": "code",
<<<<<<< HEAD
   "execution_count": 41,
=======
   "execution_count": 36,
>>>>>>> 4b84bb8a35ab49a97dbc8d85f1ce170cdfa6e287
   "metadata": {},
   "outputs": [],
   "source": [
    "#write to csv\n",
    "df.to_csv('volumeRecord.csv', index=False)"
   ]
  },
  {
   "cell_type": "code",
   "execution_count": null,
   "metadata": {},
   "outputs": [],
   "source": []
  }
 ],
 "metadata": {
  "kernelspec": {
   "display_name": "Python 3",
   "language": "python",
   "name": "python3"
  },
  "language_info": {
   "codemirror_mode": {
    "name": "ipython",
    "version": 3
   },
   "file_extension": ".py",
   "mimetype": "text/x-python",
   "name": "python",
   "nbconvert_exporter": "python",
   "pygments_lexer": "ipython3",
   "version": "3.7.6"
  }
 },
 "nbformat": 4,
 "nbformat_minor": 4
}
