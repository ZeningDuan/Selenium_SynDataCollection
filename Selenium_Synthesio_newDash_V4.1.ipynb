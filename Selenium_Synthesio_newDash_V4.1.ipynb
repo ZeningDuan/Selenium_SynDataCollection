{
 "cells": [
  {
   "cell_type": "markdown",
   "metadata": {},
   "source": [
    "# Synthesio Automation via Selenium\n",
    "\n",
    "\n",
    "Author: Zening ('Ze') Duan\n",
    "Date: 2020-01-22"
   ]
  },
  {
   "cell_type": "markdown",
   "metadata": {},
   "source": [
    "## 1. Load Packages"
   ]
  },
  {
   "cell_type": "code",
   "execution_count": 1,
   "metadata": {},
   "outputs": [],
   "source": [
    "#!pip install selenium\n",
    "import time\n",
    "import datetime\n",
    "import re\n",
    "from selenium import webdriver\n",
    "from selenium.webdriver.firefox.service import Service as FirefoxService\n",
    "from webdriver_manager.firefox import GeckoDriverManager\n",
    "\n",
    "from selenium.webdriver.support.ui import Select\n",
    "from selenium.webdriver.support.ui import WebDriverWait\n",
    "from selenium.webdriver.common.by import By\n",
    "from selenium.webdriver.support import expected_conditions as EC\n",
    "from selenium.webdriver.support.select import Select\n",
    "from selenium.webdriver.common.keys import Keys\n",
    "#from selenium.webdriver.common.action_chains import ActionChainsxiao\n",
    "from utlis_V4_1 import *\n",
    "from datetime import timedelta\n",
    "from selenium.webdriver.support.ui import WebDriverWait\n",
    "from selenium.webdriver.common.by import By\n",
    "from selenium.webdriver.support import expected_conditions as EC\n",
    "from selenium.webdriver.support.select import Select\n",
    "\n",
    "import pandas as pd\n",
    "\n",
    "\n",
    "from selenium.webdriver import FirefoxOptions\n",
    "\n",
    "import json\n"
   ]
  },
  {
   "cell_type": "markdown",
   "metadata": {},
   "source": [
    "## 2. Run"
   ]
  },
  {
   "cell_type": "markdown",
   "metadata": {},
   "source": [
    "\n",
    "## 2.1 Log in"
   ]
  },
  {
   "cell_type": "code",
   "execution_count": 2,
   "metadata": {},
   "outputs": [],
   "source": [
    "## Synthesio credentials\n",
    "path_to_json = \"./cofig.json\"\n",
    "\n",
    "with open(path_to_json, \"r\") as handler:\n",
    "    info = json.load(handler)\n",
    "\n",
    "Username = info[\"Username\"]\n",
    "Password = info[\"Password\"]\n",
    "\n",
    "\n",
    "## Dashboard filers\n",
    "Filters = {\n",
    "           'Topics': ['all',\n",
    "                     ],\n",
    "           'Publisher categories': ['Twitter'\n",
    "                                   ],\n",
    "           #only support non-default filters: lang and geo for this version. Update the non_default_filters dict if needed\n",
    "           'Languages': ['English'\n",
    "                        ],\n",
    "            \n",
    "           'Countries': {'North America': ['United States'],\n",
    "                         'Africa': ['Morocco', 'Algeria', 'Tunisia'],\n",
    "                         'Asia': ['India', 'Japan', 'China']\n",
    "                        }\n",
    "          } \n",
    "\n",
    "\n",
    "Dashboard = str('Dashboard 2')#enter your dashboard name, e.g., \"Dashboard 2\"\n",
    "\n",
    " \n",
    "\n",
    "Begin_date = {'Year': '2022', #YYYY\n",
    "             'Month': '12', #from 01 to 12\n",
    "             'Day': '11', #from 01 to 31\n",
    "              'Hour': '00', #from 00 to 23\n",
    "              'Minute': '00' #from 00 to 59\n",
    "             }\n",
    "\n",
    "End_date = {'Year':'2022' ,#YYYY\n",
    "             'Month': '12', #from 01 to 12\n",
    "             'Day': '20',#from 01 to 31\n",
    "            'Hour': '23',#from 00 to 23\n",
    "              'Minute': '59'#from 00 to 59\n",
    "           }\n",
    "\n",
    "\n",
    "Time_interval = float(1.0) #change it if needed\n",
    "\n",
    "'''\n",
    "Sample = {'mode':'random'\n",
    "                  ,\n",
    "    'fraction': float(1)\n",
    "}\n",
    "'''\n",
    "Sample = {'mode':'head'}\n",
    "\n",
    "Data_format = ['XLSX', 'CSV'][1]"
   ]
  },
  {
   "cell_type": "code",
   "execution_count": 3,
   "metadata": {},
   "outputs": [
    {
     "name": "stdout",
     "output_type": "stream",
     "text": [
      "<selenium.webdriver.remote.webelement.WebElement (session=\"65f6b21e-b7ad-4cad-a7af-021acaca9541\", element=\"3e72b6ff-dcc3-45b1-9689-4c9dd7065988\")>\n",
      "2022/12/11/00:00\n",
      "开始啦--开始日时刻已经输入 00:00\n",
      "开始日日期已经输入 2022/12/11\n",
      "结束啦--结束日日期已经输入 2022/12/11\n",
      "The total Volume is  42651 . Data is ready to download.\n",
      "volumetotal: 42651, volume: 42651\n",
      "text found\n",
      "1\n",
      "text found\n",
      "2\n"
     ]
    },
    {
     "ename": "KeyboardInterrupt",
     "evalue": "",
     "output_type": "error",
     "traceback": [
      "\u001b[0;31m---------------------------------------------------------------------------\u001b[0m",
      "\u001b[0;31mKeyboardInterrupt\u001b[0m                         Traceback (most recent call last)",
      "Cell \u001b[0;32mIn[3], line 71\u001b[0m\n\u001b[1;32m     69\u001b[0m         count \u001b[38;5;241m+\u001b[39m\u001b[38;5;241m=\u001b[39m \u001b[38;5;241m1\u001b[39m\n\u001b[1;32m     70\u001b[0m         \u001b[38;5;28mprint\u001b[39m(count)\n\u001b[0;32m---> 71\u001b[0m         \u001b[43mtime\u001b[49m\u001b[38;5;241;43m.\u001b[39;49m\u001b[43msleep\u001b[49m\u001b[43m(\u001b[49m\u001b[38;5;241;43m30\u001b[39;49m\u001b[43m)\u001b[49m\n\u001b[1;32m     73\u001b[0m toc \u001b[38;5;241m=\u001b[39m time\u001b[38;5;241m.\u001b[39mtime()\n\u001b[1;32m     74\u001b[0m \u001b[38;5;28mprint\u001b[39m(\u001b[38;5;124m'\u001b[39m\u001b[38;5;124mThis task costs \u001b[39m\u001b[38;5;124m'\u001b[39m \u001b[38;5;241m+\u001b[39m \u001b[38;5;28mstr\u001b[39m(\u001b[38;5;28mint\u001b[39m(toc \u001b[38;5;241m-\u001b[39m tic)\u001b[38;5;241m/\u001b[39m\u001b[38;5;241m60\u001b[39m) \u001b[38;5;241m+\u001b[39m \u001b[38;5;124m'\u001b[39m\u001b[38;5;124mmin.\u001b[39m\u001b[38;5;124m'\u001b[39m)\n",
      "\u001b[0;31mKeyboardInterrupt\u001b[0m: "
     ]
    }
   ],
   "source": [
    "driver = setup(Username, Password, Dashboard, Filters, Data_format, Sample, publishers = 1, languages = 1, all_topics = 1, countries = 0) #countries not available for now\n",
    "\n",
    "\n",
    "Begin_date_obj = date_obj(Begin_date) \n",
    "End_date_obj = date_obj(End_date) \n",
    "\n",
    "Delta = timedelta(hours = Time_interval) \n",
    "\n",
    "\n",
    "#Run\n",
    "Current_time = Begin_date_obj\n",
    "\n",
    "while Current_time < End_date_obj:\n",
    "    try:\n",
    "        timeout = driver.find_element(By.XPATH, \"/html/body/div[490]/div/div/section\")  #check if the timeout page occurs\n",
    "        if 'Session timeout' == timeout.text:\n",
    "            print('Session TimeOut')\n",
    "        \n",
    "            if len(driver.window_handles) > 1:\n",
    "                driver.close()\n",
    "\n",
    "            driver.switch_to.window(driver.window_handles[0])\n",
    "            driver.execute_script(\"window.open('');\")\n",
    "            driver.switch_to.window(driver.window_handles[1])\n",
    "    \n",
    "            \"\"\"\n",
    "            #driver = webdriver.Firefox(executable_path = '/usr/local/Cellar/python/3.7.6_1/geckodriver')\n",
    "            #driver.get(\"https://app.synthesio.com/dashboard/#home/workspace/35944/projects/dashboard\")\n",
    "            #driver.execute_script('''window.open(\"https://rest.synthesio.com/login/v1/login?login_challenge=064ecd2f3d5e4443b83d8b7e4e89aa23#home/workspace/35944/projects/dashboard\", \"_blank\");''') #login URL      \n",
    "            \"\"\"\n",
    "        \n",
    "            driver = resetup(driver, Username, Password, Dashboard, Filters, Data_format, Sample)# re-set up other filters\n",
    "    \n",
    "    except:\n",
    "        pass\n",
    "    \n",
    "    print(strfdate(Current_time))\n",
    "    time.sleep(3)\n",
    "    sampling(driver, Current_time, Time_interval)\n",
    "    Volume_total, Volume = dataexport(driver, Data_format, Sample)\n",
    "    print('volumetotal: ' + str(Volume_total) + ', volume: ' + str(Volume))\n",
    "\n",
    "    '''\n",
    "    # This data chunk for recording data volumn info\n",
    "    VolumeTablePath = '/Users/zeningduan/Desktop/Collaboration projects/Ukraine Russia project/Data/Twitter_Synthesio/' # type in path of the volume table\n",
    "    data = pd.read_csv(VolumeTablePath + 'VolumeTable_Ukraine.csv')\n",
    "    data['Volume_total'].loc[(data['Year'] == int(Current_time.year)) & (data['Month'] == int(Current_time.month)) & (data['Day'] == int(Current_time.day))] = volume_total\n",
    "    data['Volume'].loc[(data['Year'] == int(Current_time.year)) & (data['Month'] == int(Current_time.month)) & (data['Day'] == int(Current_time.day))] = volume\n",
    "    data.to_csv(VolumeTablePath, index = False)\n",
    "    '''\n",
    "    \n",
    "    tic = time.time()\n",
    "    #waiting\n",
    "    time.sleep(20) #change here based on the expected volume per click. e.g., 1000s for 50k (~14 mins baseline)\n",
    "\n",
    "    #status checking\n",
    "    count = 0 \n",
    "    while count < 70: #change here based on the your patience, e.g., 20 mins more\n",
    "        driver, flag = dataexportcheck(driver)\n",
    "        if flag == True:\n",
    "            print('Next round download is ready!')\n",
    "            blankclick = driver.find_element(By.XPATH, '/html/body/div[1]/div/div/div/header/div[1]/div/div[1]')\n",
    "            blankclick.click()\n",
    "            print('TEST!!Printed the blank area to close the download prompting.')\n",
    "            time.sleep(3)\n",
    "      \n",
    "            break\n",
    "        else:\n",
    "            count += 1\n",
    "            print(count)\n",
    "            time.sleep(30)\n",
    "\n",
    "    toc = time.time()\n",
    "    print('This task costs ' + str(int(toc - tic)/60) + 'min.')\n",
    "\n",
    "    Current_time += Delta\n",
    "    time.sleep(5)"
   ]
  },
  {
   "cell_type": "markdown",
   "metadata": {},
   "source": [
    "# "
   ]
  },
  {
   "cell_type": "code",
   "execution_count": null,
   "metadata": {},
   "outputs": [],
   "source": [
    "#How to disable the pop-up from a complete download\n",
    "#https://support.mozilla.org/en-US/questions/1370262"
   ]
  },
  {
   "cell_type": "code",
   "execution_count": null,
   "metadata": {},
   "outputs": [],
   "source": []
  },
  {
   "cell_type": "code",
   "execution_count": null,
   "metadata": {},
   "outputs": [],
   "source": []
  },
  {
   "cell_type": "code",
   "execution_count": 1,
   "metadata": {},
   "outputs": [
    {
     "data": {
      "text/plain": [
       "0"
      ]
     },
     "execution_count": 1,
     "metadata": {},
     "output_type": "execute_result"
    }
   ],
   "source": [
    "test = []\n",
    "len(test)"
   ]
  },
  {
   "cell_type": "code",
   "execution_count": null,
   "metadata": {},
   "outputs": [],
   "source": []
  },
  {
   "cell_type": "code",
   "execution_count": null,
   "metadata": {},
   "outputs": [],
   "source": []
  },
  {
   "cell_type": "code",
   "execution_count": null,
   "metadata": {},
   "outputs": [],
   "source": [
    "## 以下删除"
   ]
  },
  {
   "cell_type": "code",
   "execution_count": null,
   "metadata": {},
   "outputs": [],
   "source": []
  },
  {
   "cell_type": "code",
   "execution_count": null,
   "metadata": {},
   "outputs": [],
   "source": []
  },
  {
   "cell_type": "code",
   "execution_count": 4,
   "metadata": {},
   "outputs": [
    {
     "name": "stdout",
     "output_type": "stream",
     "text": [
      "<selenium.webdriver.remote.webelement.WebElement (session=\"35852eae-ae0a-458e-9674-f4e3e6952386\", element=\"c7ad5f1d-ae07-4b02-9026-5b59331c96b1\")>\n"
     ]
    }
   ],
   "source": [
    "driver = openweb()\n",
    "time.sleep(3)\n",
    "login(driver, Username, Password) #input parameter\n",
    "time.sleep(3)\n",
    "DashButton = driver.find_element(By.XPATH, \"//div[.='\" + Dashboard + \"']\")\n",
    "DashButton.click()\n",
    "time.sleep(3)\n",
    "data = driver.find_element(By.CSS_SELECTOR, 'a.dashboard-nav_primary__LuW46:nth-child(4)')\n",
    "data.click()\n",
    "time.sleep(3)\n",
    "blankclick = driver.find_element(By.XPATH, '/html/body/div[1]/div/div/div/header/div[1]/div/div[1]')\n",
    "blankclick.click()\n",
    "time.sleep(3)"
   ]
  },
  {
   "cell_type": "code",
   "execution_count": null,
   "metadata": {},
   "outputs": [],
   "source": []
  },
  {
   "cell_type": "code",
   "execution_count": 12,
   "metadata": {},
   "outputs": [],
   "source": [
    "Languages =  driver.find_element(By.XPATH, '//*[@data-tracker-id=\"filters-button-language\"]')\n",
    "Languages.click()"
   ]
  },
  {
   "cell_type": "code",
   "execution_count": 11,
   "metadata": {},
   "outputs": [],
   "source": [
    "Chosen_Language = driver.find_element(By.XPATH, '//*[@title=\"' + Filters['Languages'][0] + '\"]')\n",
    "Chosen_Language.click()"
   ]
  },
  {
   "cell_type": "code",
   "execution_count": 11,
   "metadata": {},
   "outputs": [
    {
     "data": {
      "text/plain": [
       "['English']"
      ]
     },
     "execution_count": 11,
     "metadata": {},
     "output_type": "execute_result"
    }
   ],
   "source": [
    "Filters['Languages']"
   ]
  },
  {
   "cell_type": "code",
   "execution_count": 16,
   "metadata": {},
   "outputs": [],
   "source": [
    "Topics = driver.find_element(By.XPATH, '//*[@data-tracker-id= \"filters-button-subtopic\"]')\n",
    "Topics.click()"
   ]
  },
  {
   "cell_type": "code",
   "execution_count": 15,
   "metadata": {},
   "outputs": [],
   "source": [
    "AllTopic = driver.find_element(By.CLASS_NAME, 'Checkbox_checkbox__0JExE')\n",
    "AllTopic.click()"
   ]
  },
  {
   "cell_type": "code",
   "execution_count": 20,
   "metadata": {},
   "outputs": [],
   "source": [
    "Begin_date_obj = date_obj(Begin_date) \n",
    "End_date_obj = date_obj(End_date) \n",
    "\n",
    "Delta = timedelta(hours = Time_interval) \n",
    "\n",
    "#Run\n",
    "Current_time = Begin_date_obj\n"
   ]
  },
  {
   "cell_type": "code",
   "execution_count": 21,
   "metadata": {},
   "outputs": [],
   "source": [
    "Delta_1m = timedelta(minutes=1) #1 min\n",
    "T = int(Time_interval)\n",
    "Delta_interval = timedelta(hours=T) #1 min"
   ]
  },
  {
   "cell_type": "code",
   "execution_count": 315,
   "metadata": {},
   "outputs": [],
   "source": [
    "Period = driver.find_element(By.XPATH, '//*[@data-tracker-id=\"filters-button-date\"]')\n",
    "Period.click()"
   ]
  },
  {
   "cell_type": "code",
   "execution_count": 316,
   "metadata": {},
   "outputs": [],
   "source": [
    "Clear = driver.find_element(By.XPATH, '//*[@data-tracker-id=\"filters-clear-button\"]')\n",
    "Clear.click()"
   ]
  },
  {
   "cell_type": "code",
   "execution_count": 317,
   "metadata": {},
   "outputs": [],
   "source": [
    "Time_start = driver.find_elements(By.XPATH, '/html/body/div[1]/div/div/div/header/div[2]/div/div/div/div/div[3]/div[2]/div[2]/div/div/div/div/section[2]/div/div[1]/div/form/div/input[2]')\n",
    "Time_start[0].send_keys(Keys.BACKSPACE * 5)\n",
    "Time_start[0].send_keys(strfdate(Current_time)[-5:])"
   ]
  },
  {
   "cell_type": "code",
   "execution_count": 318,
   "metadata": {},
   "outputs": [],
   "source": [
    "Date_start = driver.find_elements(By.XPATH, '/html/body/div[1]/div/div/div/header/div[2]/div/div/div/div/div[3]/div[2]/div[2]/div/div/div/div/section[2]/div/div[1]/div/form/div/input[1]')\n",
    "Date_start[0].send_keys(strfdate(Current_time)[:-6]) #Y/M/D"
   ]
  },
  {
   "cell_type": "code",
   "execution_count": 319,
   "metadata": {},
   "outputs": [],
   "source": [
    "Time_end = driver.find_elements(By.XPATH, '/html/body/div[1]/div/div/div/header/div[2]/div/div/div/div/div[3]/div[2]/div[2]/div/div/div/div/section[2]/div/div[2]/div[1]/form/div/input[2]')\n",
    "Time_end[0].send_keys(Keys.BACKSPACE * 5)\n",
    "Time_end[0].send_keys(strfdate(Current_time + Delta_interval - Delta_1m)[-5:]) #H/M"
   ]
  },
  {
   "cell_type": "code",
   "execution_count": 320,
   "metadata": {},
   "outputs": [],
   "source": [
    "Date_end = driver.find_elements(By.XPATH, '/html/body/div/div/div/div/header/div[2]/div/div/div/div/div[3]/div[2]/div[2]/div/div/div/div/section[2]/div/div[2]/div[1]/form/div/input[1]')\n",
    "Date_end[0].send_keys(strfdate(Current_time)[:-6]) #Y/M/D"
   ]
  },
  {
   "cell_type": "code",
   "execution_count": 321,
   "metadata": {},
   "outputs": [],
   "source": [
    "Blank_icon = driver.find_elements(By.XPATH, '/html/body/div/div/div/div/header/div[2]/div/div/div/div/div[3]/div[2]/div[2]/div/div/div/div/section[2]/div')\n",
    "Blank_icon[0].click()"
   ]
  },
  {
   "cell_type": "code",
   "execution_count": 322,
   "metadata": {},
   "outputs": [],
   "source": [
    "Period =driver.find_element(By.XPATH, '//*[@data-tracker-id=\"filters-button-date\"]')\n",
    "Period.click()"
   ]
  },
  {
   "cell_type": "code",
   "execution_count": 323,
   "metadata": {},
   "outputs": [
    {
     "name": "stdout",
     "output_type": "stream",
     "text": [
      "The total Volume is  36688 . Data is ready to download.\n",
      "This task, we downloaded 36688 mentions.\n"
     ]
    }
   ],
   "source": [
    "Volume_total, Volume = dataexport(driver, Data_format, Sample)"
   ]
  },
  {
   "cell_type": "code",
   "execution_count": null,
   "metadata": {},
   "outputs": [],
   "source": []
  },
  {
   "cell_type": "code",
   "execution_count": null,
   "metadata": {},
   "outputs": [],
   "source": []
  },
  {
   "cell_type": "code",
   "execution_count": 313,
   "metadata": {},
   "outputs": [],
   "source": [
    "Current_time += Delta"
   ]
  },
  {
   "cell_type": "code",
   "execution_count": 314,
   "metadata": {},
   "outputs": [
    {
     "data": {
      "text/plain": [
       "datetime.datetime(2021, 11, 6, 16, 0)"
      ]
     },
     "execution_count": 314,
     "metadata": {},
     "output_type": "execute_result"
    }
   ],
   "source": [
    "Current_time"
   ]
  },
  {
   "cell_type": "code",
   "execution_count": 251,
   "metadata": {},
   "outputs": [],
   "source": [
    "driver.refresh()"
   ]
  },
  {
   "cell_type": "code",
   "execution_count": null,
   "metadata": {},
   "outputs": [],
   "source": []
  },
  {
   "cell_type": "code",
   "execution_count": null,
   "metadata": {},
   "outputs": [],
   "source": []
  },
  {
   "cell_type": "code",
   "execution_count": 242,
   "metadata": {},
   "outputs": [
    {
     "data": {
      "text/plain": [
       "[<selenium.webdriver.remote.webelement.WebElement (session=\"b2261421-94d3-4d55-b31a-e3b151ad17c8\", element=\"d0777107-334d-4db0-88cb-4de5910291e4\")>]"
      ]
     },
     "execution_count": 242,
     "metadata": {},
     "output_type": "execute_result"
    }
   ],
   "source": [
    "Blank_icon"
   ]
  },
  {
   "cell_type": "code",
   "execution_count": 407,
   "metadata": {},
   "outputs": [],
   "source": [
    "Sett = driver.find_element(By.XPATH, '/html/body/div[1]/div/div/div/header/div[1]/div/div[2]/nav/div[2]/div/div/button')\n",
    "Sett.click()"
   ]
  },
  {
   "cell_type": "code",
   "execution_count": 408,
   "metadata": {},
   "outputs": [],
   "source": [
    "Export_Button = driver.find_element(By.XPATH,'//*[@data-tracker-id=\"toggle-export-modal\"]')\n",
    "Export_Button.click()"
   ]
  },
  {
   "cell_type": "code",
   "execution_count": 409,
   "metadata": {},
   "outputs": [],
   "source": [
    "Head = driver.find_elements(By.CLASS_NAME,'Radio_radioCircle__qbZEw')[1]\n",
    "Head.click()"
   ]
  },
  {
   "cell_type": "code",
   "execution_count": 24,
   "metadata": {},
   "outputs": [
    {
     "data": {
      "text/plain": [
       "'6,729'"
      ]
     },
     "execution_count": 24,
     "metadata": {},
     "output_type": "execute_result"
    }
   ],
   "source": [
    "Volume = driver.find_elements(By.CLASS_NAME, \"ModalExport_headline__Fe1Rl\")[0]\n",
    "Volume.text[:-18]"
   ]
  },
  {
   "cell_type": "code",
   "execution_count": 25,
   "metadata": {},
   "outputs": [],
   "source": [
    "Download =  driver.find_element(By.XPATH, '//*[@data-tracker-id=\"mention-modal-export-export-mention\"]')\n",
    "Download.click()"
   ]
  },
  {
   "cell_type": "code",
   "execution_count": 410,
   "metadata": {},
   "outputs": [],
   "source": [
    "Current_time += Delta"
   ]
  },
  {
   "cell_type": "code",
   "execution_count": null,
   "metadata": {},
   "outputs": [],
   "source": []
  },
  {
   "cell_type": "code",
   "execution_count": null,
   "metadata": {},
   "outputs": [],
   "source": []
  },
  {
   "cell_type": "code",
   "execution_count": 31,
   "metadata": {},
   "outputs": [],
   "source": [
    "Period = driver.find_element(By.XPATH, '//*[@data-tracker-id=\"filters-button-date\"]')\n",
    "Period.click()"
   ]
  },
  {
   "cell_type": "code",
   "execution_count": null,
   "metadata": {},
   "outputs": [],
   "source": []
  },
  {
   "cell_type": "code",
   "execution_count": null,
   "metadata": {},
   "outputs": [],
   "source": []
  },
  {
   "cell_type": "code",
   "execution_count": null,
   "metadata": {},
   "outputs": [],
   "source": []
  },
  {
   "cell_type": "code",
   "execution_count": 63,
   "metadata": {},
   "outputs": [],
   "source": [
    "Date_period = driver.find_elements(By.XPATH, '//*[@data-tracker-class=\"date-picker-date-input\"]') \n",
    "Time_period = driver.find_elements(By.XPATH, '//*[@data-tracker-class=\"date-picker-time-input\"]')     "
   ]
  },
  {
   "cell_type": "code",
   "execution_count": 56,
   "metadata": {},
   "outputs": [],
   "source": [
    "Date_period[0].send_keys(strfdate(Current_time)[:-6]) #Y/M/D\n",
    "time.sleep(1)"
   ]
  },
  {
   "cell_type": "code",
   "execution_count": 61,
   "metadata": {},
   "outputs": [],
   "source": [
    "Time_period[0].send_keys(Keys.BACKSPACE * 5)\n",
    "Time_period[0].send_keys(strfdate(Current_time)[-5:])"
   ]
  },
  {
   "cell_type": "code",
   "execution_count": 58,
   "metadata": {},
   "outputs": [],
   "source": [
    "Date_period[1].send_keys(strfdate(Current_time)[:-6]) #Y/M/D\n",
    "time.sleep(1)"
   ]
  },
  {
   "cell_type": "code",
   "execution_count": 64,
   "metadata": {},
   "outputs": [],
   "source": [
    "Time_period[1].send_keys(Keys.BACKSPACE * 5)\n",
    "Time_period[1].send_keys(strfdate(Current_time + Delta_interval - Delta_1m)[-5:]) #H/M"
   ]
  },
  {
   "cell_type": "code",
   "execution_count": null,
   "metadata": {},
   "outputs": [],
   "source": []
  },
  {
   "cell_type": "code",
   "execution_count": 13,
   "metadata": {},
   "outputs": [],
   "source": [
    "#open the Period section\n",
    "Period = driver.find_element(By.XPATH, '//*[@data-tracker-id=\"filters-button-date\"]')\n",
    "Period.click()\n",
    "time.sleep(5)\n",
    "\n",
    "Clear = driver.find_element(By.XPATH, '//*[@data-tracker-id=\"filters-clear-button\"]')\n",
    "Clear.click()\n",
    "time.sleep(1)\n",
    "\n",
    "\n",
    "#input current time to the first & second boxes\n",
    "Date_period = driver.find_elements(By.XPATH, '//*[@data-tracker-class=\"date-picker-date-input\"]')#Locate time/date boxes \n",
    "Time_period = driver.find_elements(By.XPATH, '//*[@data-tracker-class=\"date-picker-time-input\"]')#Locate time/date boxes   \n"
   ]
  },
  {
   "cell_type": "code",
   "execution_count": 15,
   "metadata": {},
   "outputs": [],
   "source": [
    "Time_period[0].send_keys(Keys.BACKSPACE * 5)\n",
    "Time_period[0].send_keys(strfdate(Current_time)[-5:]) #H/M"
   ]
  },
  {
   "cell_type": "code",
   "execution_count": null,
   "metadata": {},
   "outputs": [],
   "source": []
  },
  {
   "cell_type": "code",
   "execution_count": 19,
   "metadata": {},
   "outputs": [],
   "source": [
    "Time_period = driver.find_elements(By.XPATH, '//*[@data-tracker-class=\"date-picker-time-input\"]')#Locate time/date boxes   \n",
    "Time_period[0].send_keys(Keys.BACKSPACE * 5)"
   ]
  },
  {
   "cell_type": "code",
   "execution_count": 21,
   "metadata": {
    "scrolled": true
   },
   "outputs": [],
   "source": [
    "#open the Period section\n",
    "Period = driver.find_element(By.XPATH, '//*[@data-tracker-id=\"filters-button-date\"]')\n",
    "Period.click()\n",
    "time.sleep(5)\n",
    "\n",
    "Clear = driver.find_element(By.XPATH, '//*[@data-tracker-id=\"filters-clear-button\"]')\n",
    "Clear.click()\n",
    "time.sleep(1)\n",
    "\n",
    "\n",
    "#input current time to the first & second boxes\n",
    "Date_period = driver.find_elements(By.XPATH, '//*[@data-tracker-class=\"date-picker-date-input\"]')#Locate time/date boxes \n",
    "Date_period[0].send_keys(strfdate(Current_time)[:-6]) #Y/M/D\n",
    "time.sleep(1)\n",
    "Time_period = driver.find_elements(By.XPATH, '//*[@data-tracker-class=\"date-picker-time-input\"]')#Locate time/date boxes   \n",
    "Time_period[0].send_keys(Keys.BACKSPACE * 5)\n",
    "Time_period = driver.find_elements(By.XPATH, '//*[@data-tracker-class=\"date-picker-time-input\"]')#Locate time/date boxes   \n",
    "Time_period[0].send_keys(strfdate(Current_time)[-5:]) #H/M\n",
    "time.sleep(1)\n",
    "\n",
    "#input end time to the last two boxes\n",
    "\n",
    "Date_period = driver.find_elements(By.XPATH, '//*[@data-tracker-class=\"date-picker-date-input\"]')#Locate time/date boxes \n",
    "\n",
    "Date_period[1].send_keys(strfdate(Current_time)[:-6]) #Y/M/D\n",
    "time.sleep(1)\n",
    "Time_period = driver.find_elements(By.XPATH, '//*[@data-tracker-class=\"date-picker-time-input\"]')#Locate time/date boxes\n",
    "Time_period[1].send_keys(Keys.BACKSPACE * 5)\n",
    "Time_period = driver.find_elements(By.XPATH, '//*[@data-tracker-class=\"date-picker-time-input\"]')#Locate time/date boxes\n",
    "Time_period[1].send_keys(strfdate(Current_time + Delta_interval - Delta_1m)[-5:]) #H/M\n",
    "time.sleep(1)\n",
    "\n",
    "#close box, apply data export button\n",
    "Period = driver.find_element(By.XPATH, '//*[@data-tracker-id=\"filters-button-date\"]')\n",
    "Period.click()\n",
    "time.sleep(5)"
   ]
  },
  {
   "cell_type": "code",
   "execution_count": 29,
   "metadata": {},
   "outputs": [],
   "source": []
  },
  {
   "cell_type": "code",
   "execution_count": 31,
   "metadata": {},
   "outputs": [],
   "source": []
  },
  {
   "cell_type": "code",
   "execution_count": 32,
   "metadata": {},
   "outputs": [],
   "source": []
  },
  {
   "cell_type": "code",
   "execution_count": null,
   "metadata": {},
   "outputs": [],
   "source": []
  },
  {
   "cell_type": "code",
   "execution_count": null,
   "metadata": {},
   "outputs": [],
   "source": []
  },
  {
   "cell_type": "code",
   "execution_count": 13,
   "metadata": {},
   "outputs": [
    {
     "ename": "IndexError",
     "evalue": "list index out of range",
     "output_type": "error",
     "traceback": [
      "\u001b[0;31m---------------------------------------------------------------------------\u001b[0m",
      "\u001b[0;31mIndexError\u001b[0m                                Traceback (most recent call last)",
      "Cell \u001b[0;32mIn[13], line 2\u001b[0m\n\u001b[1;32m      1\u001b[0m Search \u001b[38;5;241m=\u001b[39m driver\u001b[38;5;241m.\u001b[39mfind_elements(By\u001b[38;5;241m.\u001b[39mCLASS_NAME, \u001b[38;5;124m'\u001b[39m\u001b[38;5;124mdate-picker-time-input\u001b[39m\u001b[38;5;124m'\u001b[39m)\n\u001b[0;32m----> 2\u001b[0m \u001b[43mSearch\u001b[49m\u001b[43m[\u001b[49m\u001b[38;5;241;43m0\u001b[39;49m\u001b[43m]\u001b[49m\u001b[38;5;241m.\u001b[39msend_keys(strfdate(Current_time)[:\u001b[38;5;241m-\u001b[39m\u001b[38;5;241m6\u001b[39m])\n",
      "\u001b[0;31mIndexError\u001b[0m: list index out of range"
     ]
    }
   ],
   "source": [
    "Search = driver.find_elements(By.CLASS_NAME, 'date-picker-time-input')\n",
    "Search[0].send_keys(strfdate(Current_time)[:-6]) #Y/M/D"
   ]
  },
  {
   "cell_type": "code",
   "execution_count": 16,
   "metadata": {},
   "outputs": [
    {
     "data": {
      "text/plain": [
       "[<selenium.webdriver.remote.webelement.WebElement (session=\"292836af-f6d6-4904-a944-c38bed33abb1\", element=\"7deb89d4-b8bc-4bb8-8083-e6b7ad4cb0a9\")>,\n",
       " <selenium.webdriver.remote.webelement.WebElement (session=\"292836af-f6d6-4904-a944-c38bed33abb1\", element=\"ead84484-bf9b-4a1c-a1d7-42102c9766ac\")>]"
      ]
     },
     "execution_count": 16,
     "metadata": {},
     "output_type": "execute_result"
    }
   ],
   "source": [
    "Search = driver.find_elements(By.XPATH, '//*[@data-tracker-class=\"date-picker-time-input\"]')                           \n",
    "Search"
   ]
  },
  {
   "cell_type": "code",
   "execution_count": 17,
   "metadata": {},
   "outputs": [
    {
     "data": {
      "text/plain": [
       "[<selenium.webdriver.remote.webelement.WebElement (session=\"292836af-f6d6-4904-a944-c38bed33abb1\", element=\"ec4d6b2d-8739-4223-b6cc-1221481dc06d\")>,\n",
       " <selenium.webdriver.remote.webelement.WebElement (session=\"292836af-f6d6-4904-a944-c38bed33abb1\", element=\"4e3f2d34-d46c-47cb-adc7-860e732aa4b5\")>]"
      ]
     },
     "execution_count": 17,
     "metadata": {},
     "output_type": "execute_result"
    }
   ],
   "source": [
    "Search = driver.find_elements(By.XPATH, '//*[@data-tracker-class=\"date-picker-date-input\"]')                           \n",
    "Search"
   ]
  },
  {
   "cell_type": "code",
   "execution_count": 33,
   "metadata": {},
   "outputs": [
    {
     "data": {
      "text/plain": [
       "'01:59'"
      ]
     },
     "execution_count": 33,
     "metadata": {},
     "output_type": "execute_result"
    }
   ],
   "source": [
    "strfdate(Current_time + Delta_interval - Delta_1m)[-5:]"
   ]
  },
  {
   "cell_type": "code",
   "execution_count": 27,
   "metadata": {},
   "outputs": [],
   "source": [
    "Search[3].send_keys(Keys.BACKSPACE * 5)\n",
    "Search[3].send_keys(strfdate(Current_time)[-5:]) #H/M"
   ]
  },
  {
   "cell_type": "code",
   "execution_count": 32,
   "metadata": {},
   "outputs": [],
   "source": [
    "Search[3].send_keys(strfdate(Current_time)[:-6])#Y/M/D"
   ]
  },
  {
   "cell_type": "code",
   "execution_count": 49,
   "metadata": {},
   "outputs": [],
   "source": [
    "Search[1].send_keys(Keys.BACKSPACE * 5)\n",
    "Search[1].send_keys(strfdate(Current_time + Delta_interval - Delta_1m)[-5:]) #H/M"
   ]
  },
  {
   "cell_type": "code",
   "execution_count": 8,
   "metadata": {},
   "outputs": [],
   "source": [
    "Sett = driver.find_element(By.XPATH, '/html/body/div[1]/div/div/div/header/div[1]/div/div[2]/nav/div[2]/div/div/button')\n",
    "Sett.click()"
   ]
  },
  {
   "cell_type": "code",
   "execution_count": 9,
   "metadata": {},
   "outputs": [],
   "source": [
    "Export_Button = driver.find_element(By.XPATH,'//*[@data-tracker-id=\"toggle-export-modal\"]')\n",
    "Export_Button.click()"
   ]
  },
  {
   "cell_type": "code",
   "execution_count": 12,
   "metadata": {},
   "outputs": [],
   "source": [
    "Head = driver.find_elements(By.CLASS_NAME,'Radio_radioCircle__qbZEw')[1]\n",
    "Head.click()"
   ]
  },
  {
   "cell_type": "code",
   "execution_count": 42,
   "metadata": {},
   "outputs": [
    {
     "data": {
      "text/plain": [
       "'11,003'"
      ]
     },
     "execution_count": 42,
     "metadata": {},
     "output_type": "execute_result"
    }
   ],
   "source": [
    "Volume = driver.find_elements(By.CLASS_NAME, \"ModalExport_headline__Fe1Rl\")[0]\n",
    "Volume.text[:-18]"
   ]
  },
  {
   "cell_type": "code",
   "execution_count": 71,
   "metadata": {},
   "outputs": [],
   "source": [
    "InputSample = driver.find_elements(By.CLASS_NAME,'Input_input__B3DxT')[0] #click ramdon sample button\n",
    "InputSample.clear()"
   ]
  },
  {
   "cell_type": "code",
   "execution_count": 72,
   "metadata": {},
   "outputs": [
    {
     "name": "stdout",
     "output_type": "stream",
     "text": [
      "This task, we downloaded 559 mentions.\n"
     ]
    }
   ],
   "source": [
    "num = min(int(Sample.get('fraction')*volume), 50000)\n",
    "InputSample.send_keys(num)\n",
    "print(\"This task, we downloaded \" + str(num) + \" mentions.\")"
   ]
  },
  {
   "cell_type": "code",
   "execution_count": 74,
   "metadata": {},
   "outputs": [],
   "source": [
    "Csv = driver.find_elements(By.CLASS_NAME,'Radio_radioCircle__Kr41Z')[2]\n",
    "Csv.click()"
   ]
  },
  {
   "cell_type": "code",
   "execution_count": 43,
   "metadata": {},
   "outputs": [],
   "source": [
    "Download =  driver.find_element(By.XPATH, '//*[@data-tracker-id=\"mention-modal-export-export-mention\"]')\n",
    "Download.click()"
   ]
  },
  {
   "cell_type": "code",
   "execution_count": 80,
   "metadata": {},
   "outputs": [
    {
     "data": {
      "text/plain": [
       "<re.Match object; span=(41678, 41691), match='Cancel export'>"
      ]
     },
     "execution_count": 80,
     "metadata": {},
     "output_type": "execute_result"
    }
   ],
   "source": [
    "src = driver.page_source\n",
    "time.sleep(4)\n",
    "text_found = re.search(r'Cancel export', src)\n",
    "text_found"
   ]
  },
  {
   "cell_type": "code",
   "execution_count": 79,
   "metadata": {},
   "outputs": [],
   "source": [
    "text_found"
   ]
  },
  {
   "cell_type": "code",
   "execution_count": 19,
   "metadata": {
    "scrolled": true
   },
   "outputs": [
    {
     "name": "stdout",
     "output_type": "stream",
     "text": [
      "The total Volume  17067539  is larger than the cap!\n",
      "This task, we downloaded 50000 mentions.\n"
     ]
    }
   ],
   "source": [
    "checked_volume = checkvolume(driver)\n",
    "        \n",
    "if checked_volume > 500000: #By default to take no more than 10 perc of the cap 50K\n",
    "    print(\"The total Volume \" , str(checked_volume) , \" is larger than the cap!\")\n",
    "else:\n",
    "    print(\"The total Volume is \", str(checked_volume), \". Data is ready to download.\")\n",
    "time.sleep(5)\n",
    "\n",
    "\n",
    "InputSample = driver.find_elements(By.CLASS_NAME,'Input_input__MwyQT')[0] #click ramdon sample button\n",
    "InputSample.clear()\n",
    "num = min(int(Sample.get('fraction')*checked_volume), 50000)\n",
    "InputSample.send_keys(num)\n",
    "print(\"This task, we downloaded \" + str(num) + \" mentions.\")\n",
    "\n",
    "\n",
    "if Data_format == 'XLSX': #if export format is xlsx\n",
    "    Xlsx = driver.find_elements(By.CLASS_NAME,'Radio_radioCircle__qbZEw')[2] #four circle buttons (head, random, xlsx, and csv) on this page share same class name\n",
    "    Xlsx.click()\n",
    "    time.sleep(1)\n",
    "\n",
    "if Data_format == 'CSV':\n",
    "    Csv = driver.find_elements(By.CLASS_NAME,'Radio_radioCircle__qbZEw')[3] #four circle buttons (head, random, xlsx, and csv) on this page share same class name\n",
    "    Csv.click()\n",
    "    time.sleep(1)\n",
    "\n",
    "\n",
    "Download =  driver.find_element(By.XPATH, '//*[@data-tracker-id=\"mention-modal-export-export-mention\"]')\n",
    "Download.click()"
   ]
  },
  {
   "cell_type": "code",
   "execution_count": 17,
   "metadata": {},
   "outputs": [],
   "source": [
    "driver.find_elements(By.CLASS_NAME,'Radio_radioCircle__qbZEw')[0].click()"
   ]
  },
  {
   "cell_type": "code",
   "execution_count": null,
   "metadata": {},
   "outputs": [],
   "source": [
    "html body div div.Modal_background__cEOpN div.Modal_modal__vO8HX.ModalExport_modal__e1So4 div.ModalExport_body__zYSZG div.ModalExport_format__mherg div.Radio_wrapper__vimeU.ModalExport_formatRadio__Q5Ctv div.Radio_radio__+s3QI div.\n",
    "\n"
   ]
  },
  {
   "cell_type": "markdown",
   "metadata": {},
   "source": [
    "## Archive"
   ]
  },
  {
   "cell_type": "code",
   "execution_count": 3,
   "metadata": {},
   "outputs": [],
   "source": [
    "driver = openweb()"
   ]
  },
  {
   "cell_type": "code",
   "execution_count": 4,
   "metadata": {},
   "outputs": [
    {
     "name": "stdout",
     "output_type": "stream",
     "text": [
      "<selenium.webdriver.firefox.webelement.FirefoxWebElement (session=\"c2be951c-321c-4ea5-99dd-961ca1b91246\", element=\"60c6ed68-397e-4d77-b3dd-913490a0738d\")>\n"
     ]
    }
   ],
   "source": [
    "login(driver, Username, Password) #input parameter"
   ]
  },
  {
   "cell_type": "code",
   "execution_count": 5,
   "metadata": {},
   "outputs": [
    {
     "name": "stdout",
     "output_type": "stream",
     "text": [
      "We currently have  3  Dashboards:  ['CAMER', 'Russia Ukraine', 'Voter Fraud/Election Debate']\n",
      "The location of the dashboard we are seeking for is: Index[ 0 ].\n"
     ]
    }
   ],
   "source": [
    "selectdashboard(driver, Dashboard)"
   ]
  },
  {
   "cell_type": "code",
   "execution_count": 6,
   "metadata": {},
   "outputs": [],
   "source": [
    "data_tab(driver)"
   ]
  },
  {
   "cell_type": "code",
   "execution_count": 7,
   "metadata": {},
   "outputs": [],
   "source": [
    "blankclick = driver.find_element_by_xpath('/html/body/div[1]/div/div/div/header/div[1]/div/div[1]')\n",
    "blankclick.click()"
   ]
  },
  {
   "cell_type": "code",
   "execution_count": null,
   "metadata": {},
   "outputs": [],
   "source": []
  },
  {
   "cell_type": "code",
   "execution_count": 8,
   "metadata": {},
   "outputs": [],
   "source": [
    "Publishers = driver.find_element_by_xpath('//*[@data-tracker-id= \"filters-button-publisher_category\"]')\n",
    "Publishers.click()"
   ]
  },
  {
   "cell_type": "code",
   "execution_count": 9,
   "metadata": {},
   "outputs": [],
   "source": [
    "Chosen_Publisher = driver.find_element_by_xpath('//*[@title=\"' + Filters['Publisher categories'][0] + '\"]')\n",
    "Chosen_Publisher.click()"
   ]
  },
  {
   "cell_type": "code",
   "execution_count": 10,
   "metadata": {},
   "outputs": [],
   "source": [
    "Publishers = driver.find_element_by_xpath('//*[@data-tracker-id= \"filters-button-publisher_category\"]')\n",
    "Publishers.click()"
   ]
  },
  {
   "cell_type": "code",
   "execution_count": 11,
   "metadata": {},
   "outputs": [],
   "source": [
    "Languages =  driver.find_element_by_xpath('//*[@data-tracker-id=\"filters-button-language\"]')\n",
    "Languages.click()\n",
    "       "
   ]
  },
  {
   "cell_type": "code",
   "execution_count": 12,
   "metadata": {},
   "outputs": [],
   "source": [
    "Options = driver.find_element_by_xpath('//*[@title=\"' + Filters['Languages'][0] + '\"]')\n",
    "Options.click()\n"
   ]
  },
  {
   "cell_type": "code",
   "execution_count": 13,
   "metadata": {},
   "outputs": [],
   "source": [
    "Languages =  driver.find_element_by_xpath('//*[@data-tracker-id=\"filters-button-language\"]')\n",
    "Languages.click()\n",
    "       "
   ]
  },
  {
   "cell_type": "code",
   "execution_count": 14,
   "metadata": {},
   "outputs": [],
   "source": [
    "Topics = driver.find_element_by_xpath('//*[@data-tracker-id= \"filters-button-subtopic\"]')\n",
    "Topics.click()"
   ]
  },
  {
   "cell_type": "code",
   "execution_count": 15,
   "metadata": {},
   "outputs": [],
   "source": [
    "AllTopic = driver.find_element_by_class_name('Checkbox_checkbox__HfqeR')\n",
    "AllTopic.click()"
   ]
  },
  {
   "cell_type": "code",
   "execution_count": 16,
   "metadata": {},
   "outputs": [],
   "source": [
    "Topics = driver.find_element_by_xpath('//*[@data-tracker-id= \"filters-button-subtopic\"]')\n",
    "Topics.click()"
   ]
  },
  {
   "cell_type": "code",
   "execution_count": 47,
   "metadata": {},
   "outputs": [],
   "source": [
    "Begin_date_obj = date_obj(Begin_date) \n",
    "End_date_obj = date_obj(End_date)"
   ]
  },
  {
   "cell_type": "code",
   "execution_count": 48,
   "metadata": {},
   "outputs": [
    {
     "data": {
      "text/plain": [
       "datetime.datetime(2021, 12, 31, 6, 0)"
      ]
     },
     "execution_count": 48,
     "metadata": {},
     "output_type": "execute_result"
    }
   ],
   "source": [
    "Begin_date_obj"
   ]
  },
  {
   "cell_type": "code",
   "execution_count": 49,
   "metadata": {},
   "outputs": [
    {
     "data": {
      "text/plain": [
       "datetime.datetime(2022, 1, 5, 22, 55)"
      ]
     },
     "execution_count": 49,
     "metadata": {},
     "output_type": "execute_result"
    }
   ],
   "source": [
    "End_date_obj"
   ]
  },
  {
   "cell_type": "code",
   "execution_count": 50,
   "metadata": {},
   "outputs": [
    {
     "data": {
      "text/plain": [
       "datetime.timedelta(seconds=21600)"
      ]
     },
     "execution_count": 50,
     "metadata": {},
     "output_type": "execute_result"
    }
   ],
   "source": [
    "Delta = timedelta(hours = Time_interval) \n",
    "Delta"
   ]
  },
  {
   "cell_type": "code",
   "execution_count": 51,
   "metadata": {},
   "outputs": [],
   "source": [
    "Current_time = Begin_date_obj"
   ]
  },
  {
   "cell_type": "code",
   "execution_count": 52,
   "metadata": {},
   "outputs": [
    {
     "name": "stdout",
     "output_type": "stream",
     "text": [
      "2021/12/31/06:00\n"
     ]
    }
   ],
   "source": [
    "print(strfdate(Current_time))"
   ]
  },
  {
   "cell_type": "code",
   "execution_count": 46,
   "metadata": {},
   "outputs": [],
   "source": [
    "Period = driver.find_element_by_xpath('//*[@data-tracker-id=\"filters-button-date\"]')\n",
    "Period.click()"
   ]
  },
  {
   "cell_type": "code",
   "execution_count": 39,
   "metadata": {},
   "outputs": [],
   "source": [
    "Clear = driver.find_element_by_xpath('//*[@data-tracker-id=\"filters_clear_button\"]')\n",
    "Clear.click()"
   ]
  },
  {
   "cell_type": "code",
   "execution_count": 53,
   "metadata": {},
   "outputs": [],
   "source": [
    "Search = driver.find_elements_by_tag_name('input')\n",
    "Search[0].send_keys(strfdate(Current_time)[:-6]) #Y/M/D"
   ]
  },
  {
   "cell_type": "code",
   "execution_count": 54,
   "metadata": {},
   "outputs": [],
   "source": [
    "Search[1].send_keys(Keys.BACKSPACE * 5)\n",
    "Search[1].send_keys(strfdate(Current_time)[-5:]) #H/M"
   ]
  },
  {
   "cell_type": "code",
   "execution_count": 55,
   "metadata": {},
   "outputs": [],
   "source": [
    "Search[2].send_keys(strfdate(Current_time)[:-6])#Y/M/D\n"
   ]
  },
  {
   "cell_type": "code",
   "execution_count": 57,
   "metadata": {},
   "outputs": [],
   "source": [
    "Delta_1m = timedelta(minutes=1) #1 min\n",
    "T = int(Time_interval)\n",
    "Delta_interval = timedelta(hours=T) #1 min"
   ]
  },
  {
   "cell_type": "code",
   "execution_count": 58,
   "metadata": {},
   "outputs": [],
   "source": [
    "Search[3].send_keys(Keys.BACKSPACE * 5)\n",
    "Search[3].send_keys(strfdate(Current_time + Delta_interval - Delta_1m)[-5:])"
   ]
  },
  {
   "cell_type": "code",
   "execution_count": 59,
   "metadata": {},
   "outputs": [],
   "source": [
    "Period = driver.find_element_by_xpath('//*[@data-tracker-id=\"filters-button-date\"]')\n",
    "Period.click()"
   ]
  },
  {
   "cell_type": "code",
   "execution_count": 53,
   "metadata": {},
   "outputs": [],
   "source": [
    "Sett = driver.find_element_by_xpath('/html/body/div[1]/div/div/div/header/div[1]/div/div[2]/nav/div[2]/div/button')\n",
    "Sett.click()"
   ]
  },
  {
   "cell_type": "code",
   "execution_count": 54,
   "metadata": {},
   "outputs": [],
   "source": [
    "Export_Button = driver.find_element_by_xpath('//*[@data-tracker-id=\"toggle-export-modal\"]')\n",
    "Export_Button.click()"
   ]
  },
  {
   "cell_type": "code",
   "execution_count": 13,
   "metadata": {},
   "outputs": [],
   "source": [
    "Random = driver.find_elements_by_class_name('Radio_radioCircle__Kr41Z')[1] #four circle buttons (head, random, xlsx, and csv) on this page share same class name\n",
    "Random.click()"
   ]
  },
  {
   "cell_type": "code",
   "execution_count": 15,
   "metadata": {},
   "outputs": [
    {
     "data": {
      "text/plain": [
       "13313899"
      ]
     },
     "execution_count": 15,
     "metadata": {},
     "output_type": "execute_result"
    }
   ],
   "source": [
    "Volume = driver.find_element_by_class_name(\"ModalExport_headline__Fe1Rl\")\n",
    "volume = Volume.text[:-18]\n",
    "volume = int(volume.replace(',', ''))\n",
    "volume"
   ]
  },
  {
   "cell_type": "code",
   "execution_count": 16,
   "metadata": {},
   "outputs": [],
   "source": [
    "InputSample = driver.find_element_by_class_name('Input_input__B3DxT') #click ramdon sample button\n",
    "InputSample.clear()\n",
    "num = min(int(Sample.get('fraction')*volume), 50000)\n",
    "InputSample.send_keys(num)"
   ]
  },
  {
   "cell_type": "code",
   "execution_count": 77,
   "metadata": {},
   "outputs": [],
   "source": [
    "Xlsx = driver.find_elements_by_class_name('Radio_radioCircle__Kr41Z')[3]\n",
    "#four circle buttons (head, random, xlsx, and csv) on this page share same class name\n",
    "Xlsx.click()"
   ]
  },
  {
   "cell_type": "code",
   "execution_count": 75,
   "metadata": {},
   "outputs": [
    {
     "data": {
      "text/plain": [
       "[<selenium.webdriver.firefox.webelement.FirefoxWebElement (session=\"c2be951c-321c-4ea5-99dd-961ca1b91246\", element=\"de2663a8-8a5b-4a12-9474-dbea1ab40ea6\")>,\n",
       " <selenium.webdriver.firefox.webelement.FirefoxWebElement (session=\"c2be951c-321c-4ea5-99dd-961ca1b91246\", element=\"6b112902-8f63-4462-9f9f-25363db9ade7\")>,\n",
       " <selenium.webdriver.firefox.webelement.FirefoxWebElement (session=\"c2be951c-321c-4ea5-99dd-961ca1b91246\", element=\"6b1a6cf4-76b3-449c-a025-f587dfa45d30\")>,\n",
       " <selenium.webdriver.firefox.webelement.FirefoxWebElement (session=\"c2be951c-321c-4ea5-99dd-961ca1b91246\", element=\"33b5f097-117b-44f6-83e6-f2af16a64f3d\")>]"
      ]
     },
     "execution_count": 75,
     "metadata": {},
     "output_type": "execute_result"
    }
   ],
   "source": [
    "Random = driver.find_elements_by_class_name('Radio_radioCircle__Kr41Z')\n",
    "Random"
   ]
  },
  {
   "cell_type": "code",
   "execution_count": null,
   "metadata": {},
   "outputs": [],
   "source": []
  },
  {
   "cell_type": "code",
   "execution_count": 78,
   "metadata": {},
   "outputs": [],
   "source": [
    "Download =  driver.find_element_by_xpath('//*[@data-tracker-id=\"mention-modal-export-export-mention\"]')\n",
    "Download.click()"
   ]
  },
  {
   "cell_type": "code",
   "execution_count": null,
   "metadata": {},
   "outputs": [],
   "source": [
    "<div class=\"Radio_wrapper__qrjl4\n",
    "      \n",
    "      \n",
    "      ModalExport_formatRadio__Q5Ctv\" title=\"CSV\"><div class=\"Radio_radio__TUlSa\"><div class=\"Radio_radioCircle__Kr41Z\n",
    "             \" style=\"\"></div></div><span>CSV</span></div>"
   ]
  },
  {
   "cell_type": "code",
   "execution_count": null,
   "metadata": {},
   "outputs": [],
   "source": []
  }
 ],
 "metadata": {
  "kernelspec": {
   "display_name": "Python 3 (ipykernel)",
   "language": "python",
   "name": "python3"
  },
  "language_info": {
   "codemirror_mode": {
    "name": "ipython",
    "version": 3
   },
   "file_extension": ".py",
   "mimetype": "text/x-python",
   "name": "python",
   "nbconvert_exporter": "python",
   "pygments_lexer": "ipython3",
   "version": "3.10.11"
  }
 },
 "nbformat": 4,
 "nbformat_minor": 4
}
