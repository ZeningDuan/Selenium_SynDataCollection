{
 "cells": [
  {
   "cell_type": "markdown",
   "metadata": {},
   "source": [
    "# Synthesio Automation via Selenium\n",
    "\n",
    "\n",
    "Author: Zening ('Ze') Duan\n",
    "Date: 2020-01-22"
   ]
  },
  {
   "cell_type": "markdown",
   "metadata": {},
   "source": [
    "## 1. Load Packages"
   ]
  },
  {
   "cell_type": "code",
   "execution_count": 1,
   "metadata": {},
   "outputs": [],
   "source": [
    "#!pip install selenium\n",
    "import time\n",
    "import datetime\n",
    "import re\n",
    "from selenium import webdriver\n",
    "from selenium.webdriver.support.ui import Select\n",
    "from selenium.webdriver.support.ui import WebDriverWait\n",
    "from selenium.webdriver.common.by import By\n",
    "from selenium.webdriver.support import expected_conditions as EC\n",
    "from selenium.webdriver.support.select import Select\n",
    "from selenium.webdriver.common.keys import Keys\n",
    "from selenium.webdriver.common.action_chains import ActionChains\n",
    "from utlis_v5 import *\n",
    "from datetime import timedelta\n",
    "\n",
    "import pandas as pd"
   ]
  },
  {
   "cell_type": "markdown",
   "metadata": {},
   "source": [
    "## 2. Run"
   ]
  },
  {
   "cell_type": "markdown",
   "metadata": {},
   "source": [
    "## 2.1 Log in"
   ]
  },
  {
   "cell_type": "code",
   "execution_count": 2,
   "metadata": {},
   "outputs": [],
   "source": [
    "Username = 'XXXX' #Enter your username\n",
    "Password = 'XXXX' #Enter your password\n",
    "\n",
    "Filters = {\n",
    "           'Topics': ['all',\n",
    "                      'user_defined'\n",
    "                     ],\n",
    "           'Publisher categories': ['Twitter',\n",
    "                                   'Facebook'\n",
    "                                   ],\n",
    "           #only support non-default filters: lang and geo for this version. Update the non_default_filters dict if needed\n",
    "           'Languages': ['English'\n",
    "                         ,'Chinese'\n",
    "                        ],\n",
    "            \n",
    "           'Countries': {'North America': ['United States'],\n",
    "                         'Africa': ['Morocco', 'Algeria', 'Tunisia'],\n",
    "                         'Asia': ['India', 'Japan', 'China']\n",
    "                        }\n",
    "          } \n",
    "\n",
    "Dashboard = str('XXX')#enter your dashboard name, e.g., \"CAMER (Copy)\"\n",
    "\n",
    " \n",
    "\n",
    "Begin_date = {'Year': '2020',\n",
    "             'Month': '06',\n",
    "             'Day': '17',\n",
    "              'Hour': '00',\n",
    "              'Minute': '00'\n",
    "             }\n",
    "\n",
    "End_date = {'Year':'2020' ,\n",
    "             'Month': '06',\n",
    "             'Day': '18',\n",
    "            'Hour': '23',\n",
    "              'Minute': '59'\n",
    "           }\n",
    "\n",
    "\n",
    "Time_interval = float(1.0) #in one hour, change it if needed\n",
    "\n",
    "Sample = {'mode': 'head',\n",
    "                   'random'\n",
    "                  ,\n",
    "    'fraction': float(1)\n",
    "}\n",
    "\n",
    "Data_format = ['XLSX', 'CSV'][1]"
   ]
  },
  {
   "cell_type": "code",
   "execution_count": null,
   "metadata": {},
   "outputs": [
    {
     "name": "stdout",
     "output_type": "stream",
     "text": [
      "We currently have  5  Dashboards:  ['Market Research', 'MeToo', 'CAMER', 'CAMER (Copy)', 'Immigration']\n",
      "The location of the dashboard we are seeking for is: Index[ 3 ].\n",
      "2020/06/17/00:00\n",
      "The total Volume is  44909 . Data is ready to download.\n",
      "This task, we downloaded 44909 mentions.\n"
     ]
    },
    {
     "name": "stderr",
     "output_type": "stream",
     "text": [
      "/usr/local/lib/python3.7/site-packages/pandas/core/indexing.py:670: SettingWithCopyWarning: \n",
      "A value is trying to be set on a copy of a slice from a DataFrame\n",
      "\n",
      "See the caveats in the documentation: https://pandas.pydata.org/pandas-docs/stable/user_guide/indexing.html#returning-a-view-versus-a-copy\n",
      "  iloc._setitem_with_indexer(indexer, value)\n"
     ]
    },
    {
     "name": "stdout",
     "output_type": "stream",
     "text": [
      "text found\n",
      "1\n",
      "text found\n",
      "2\n",
      "text found\n",
      "3\n",
      "text found\n",
      "4\n",
      "text found\n",
      "5\n",
      "text found\n",
      "6\n",
      "text found\n",
      "7\n",
      "text found\n",
      "8\n",
      "text found\n",
      "9\n",
      "text found\n",
      "10\n",
      "text not found!\n",
      "Next round download is ready!\n",
      "This task costs 26.75min.\n",
      "2020/06/17/01:00\n",
      "The total Volume is  44038 . Data is ready to download.\n",
      "This task, we downloaded 44038 mentions.\n"
     ]
    },
    {
     "name": "stderr",
     "output_type": "stream",
     "text": [
      "/usr/local/lib/python3.7/site-packages/pandas/core/indexing.py:670: SettingWithCopyWarning: \n",
      "A value is trying to be set on a copy of a slice from a DataFrame\n",
      "\n",
      "See the caveats in the documentation: https://pandas.pydata.org/pandas-docs/stable/user_guide/indexing.html#returning-a-view-versus-a-copy\n",
      "  iloc._setitem_with_indexer(indexer, value)\n"
     ]
    },
    {
     "name": "stdout",
     "output_type": "stream",
     "text": [
      "text found\n",
      "1\n",
      "text found\n",
      "2\n",
      "text found\n",
      "3\n",
      "text found\n",
      "4\n",
      "text found\n",
      "5\n"
     ]
    }
   ],
   "source": [
    "driver = setup(Username, Password, Dashboard, Filters, Data_format, Sample)\n",
    "\n",
    "Begin_date_obj = date_obj(Begin_date) \n",
    "End_date_obj = date_obj(End_date) \n",
    "\n",
    "Delta = timedelta(hours=Time_interval) \n",
    "\n",
    "\n",
    "#Run\n",
    "Current_time = Begin_date_obj\n",
    "while Current_time < End_date_obj:\n",
    "    print(strfdate(Current_time))\n",
    "    sampling(driver, Current_time, Delta)\n",
    "    volume = dataexport(driver, Data_format, Sample)\n",
    "    \n",
    "    data = pd.read_csv(\"/Users/ze/Desktop/volumeRecord.csv\")\n",
    "    data['Volume'].loc[(data['Day'] == int(Current_time.day)) & (data['Hour'] == int(Current_time.hour))] = volume\n",
    "    data.to_csv(\"/Users/ze/Desktop/volumeRecord.csv\", index = False)\n",
    "    \n",
    "    tic = time.time()\n",
    "    #waiting\n",
    "    time.sleep(1000) #change here based on the expected volume per click. e.g., 1000s for 50k (~16 mins baseline)\n",
    "   \n",
    "    #status checking\n",
    "    count = 0 \n",
    "    while count < 14: #change here based on the your patience, e.g., 14 mins more\n",
    "        driver, flag = dataexportcheck(driver)\n",
    "        if flag == True:\n",
    "            print('Next round download is ready!')\n",
    "            break\n",
    "        else:\n",
    "            count += 1\n",
    "            print(count)\n",
    "            time.sleep(55)\n",
    "    \n",
    "    toc = time.time()\n",
    "    print('This task costs ' + str(int(toc - tic)/60) + 'min.')\n",
    "    \n",
    "    Current_time += Delta"
   ]
  }
 ],
 "metadata": {
  "kernelspec": {
   "display_name": "Python 3",
   "language": "python",
   "name": "python3"
  },
  "language_info": {
   "codemirror_mode": {
    "name": "ipython",
    "version": 3
   },
   "file_extension": ".py",
   "mimetype": "text/x-python",
   "name": "python",
   "nbconvert_exporter": "python",
   "pygments_lexer": "ipython3",
   "version": "3.7.6"
  }
 },
 "nbformat": 4,
 "nbformat_minor": 4
}
