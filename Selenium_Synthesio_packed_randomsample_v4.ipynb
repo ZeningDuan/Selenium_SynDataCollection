{
 "cells": [
  {
   "cell_type": "markdown",
   "metadata": {},
   "source": [
    "# Synthesio Automation via Selenium\n",
    "\n",
    "\n",
    "Author: Zening ('Ze') Duan \n",
    "Date: 2020-12-29"
   ]
  },
  {
   "cell_type": "markdown",
   "metadata": {},
   "source": [
    "## TASK\n",
    "\n",
    "Collecting Data by every 3 hours. \n",
    "\n",
    "Begin time: 2020-06-01\n",
    "\n",
    "End time: 2020-06-14\n",
    "\n",
    "Language: English\n",
    "\n",
    "Media Source: Twitter\n",
    "\n",
    "Country: U.S."
   ]
  },
  {
   "cell_type": "markdown",
   "metadata": {},
   "source": [
    "## 1. Load Packages"
   ]
  },
  {
   "cell_type": "code",
   "execution_count": 1,
   "metadata": {},
   "outputs": [],
   "source": [
    "#!pip install selenium\n",
    "import time\n",
    "import datetime\n",
    "from selenium import webdriver\n",
    "from selenium.webdriver.support.ui import Select\n",
    "from selenium.webdriver.support.ui import WebDriverWait\n",
    "from selenium.webdriver.common.by import By\n",
    "from selenium.webdriver.support import expected_conditions as EC\n",
    "from selenium.webdriver.support.select import Select\n",
    "from selenium.webdriver.common.keys import Keys\n",
    "from selenium.webdriver.common.action_chains import ActionChains\n",
    "from utlis_v4_Ze import *\n",
    "from datetime import timedelta\n",
    "\n",
    "import pandas as pd\n",
    "import numpy as np"
   ]
  },
  {
   "cell_type": "markdown",
   "metadata": {},
   "source": [
    "## 2. Run"
   ]
  },
  {
   "cell_type": "markdown",
   "metadata": {},
   "source": [
    "## 2.1 Log in"
   ]
  },
  {
   "cell_type": "code",
   "execution_count": 2,
   "metadata": {},
   "outputs": [],
   "source": [
    "Username = 'syang84@wisc.edu'\n",
    "Password = 'Ybm7VNrN'\n",
    "\n",
    "Filters = {#default filters: Period, Topics, Publisher\n",
    "            'Period': ['June', '1', 'June', '2'], #begin month/begin day/end month/end day\n",
    "           'Topics': ['all', 'user_defined'],\n",
    "           'Publisher categories': ['Twitter', 'Facebook'],\n",
    "           #only support non-default filters: lang and geo for this version. Update the non_default_filters dict if needed\n",
    "           'Languages': ['English', 'Chinese'],\n",
    "            \n",
    "           'Countries': {'North America': ['United States'],\n",
    "                         'Africa': ['Morocco', 'Algeria', 'Tunisia'],\n",
    "                         'Asia': ['India', 'Japan', 'China']\n",
    "               \n",
    "               \n",
    "           }\n",
    "          } \n",
    "\n",
    "Dashboard = str('CAMER')\n",
    "\n",
    " \n",
    "\n",
    "Begin_date = {'Year': '2020',\n",
    "             'Month': '06',\n",
    "             'Day': '01',\n",
    "              'Hour': '00',\n",
    "              'Minute': '00'\n",
    "             }\n",
    "\n",
    "End_date = {'Year':'2020' ,\n",
    "             'Month': '06',\n",
    "             'Day': '02',\n",
    "            'Hour': '23',\n",
    "              'Minute': '59'\n",
    "           }\n",
    "\n",
    "\n",
    "Time_interval = float(3.0) #in hour\n",
    "\n",
    "Sample = {'mode': #'head',\n",
    "                   'random'\n",
    "                  ,\n",
    "    'fraction': float(0.001)\n",
    "}\n",
    "\n",
    "\n",
    "Data_format = ['XLSX', 'CSV'][1]"
   ]
  },
  {
   "cell_type": "code",
   "execution_count": 3,
   "metadata": {},
   "outputs": [
    {
     "name": "stdout",
     "output_type": "stream",
     "text": [
      "We currently have  4  Dashboards:  ['Market Research', 'MeToo', 'CAMER', 'Immigration']\n",
      "The location of the dashboard we are seeking for is: Index[ 2 ].\n",
      "Message: Unable to locate element: //*[@title=\"Chinese\"]\n",
      "\n",
      "Can not find this language: Chinese\n",
      "2020/06/01/00:00\n",
      "The total Volume is  52833 . Data is ready to download.\n",
      "This task, we downloaded 52 mentions.\n",
      "2020/06/01/03:00\n",
      "The total Volume is  32688 . Data is ready to download.\n",
      "This task, we downloaded 32 mentions.\n",
      "2020/06/01/06:00\n",
      "The total Volume is  79595 . Data is ready to download.\n",
      "This task, we downloaded 79 mentions.\n",
      "2020/06/01/09:00\n",
      "The total Volume is  126149 . Data is ready to download.\n",
      "This task, we downloaded 126 mentions.\n",
      "2020/06/01/12:00\n",
      "The total Volume is  125469 . Data is ready to download.\n",
      "This task, we downloaded 125 mentions.\n",
      "2020/06/01/15:00\n",
      "The total Volume is  106868 . Data is ready to download.\n",
      "This task, we downloaded 106 mentions.\n",
      "2020/06/01/18:00\n",
      "The total Volume is  118828 . Data is ready to download.\n",
      "This task, we downloaded 118 mentions.\n",
      "2020/06/01/21:00\n",
      "The total Volume  726743  is larger than the cap!\n",
      "This task, we downloaded 726 mentions.\n",
      "2020/06/02/00:00\n",
      "The total Volume is  51671 . Data is ready to download.\n",
      "This task, we downloaded 51 mentions.\n",
      "2020/06/02/03:00\n",
      "The total Volume is  30783 . Data is ready to download.\n",
      "This task, we downloaded 30 mentions.\n",
      "2020/06/02/06:00\n",
      "The total Volume is  74732 . Data is ready to download.\n",
      "This task, we downloaded 74 mentions.\n",
      "2020/06/02/09:00\n",
      "The total Volume is  105779 . Data is ready to download.\n",
      "This task, we downloaded 105 mentions.\n",
      "2020/06/02/12:00\n",
      "The total Volume is  106995 . Data is ready to download.\n",
      "This task, we downloaded 106 mentions.\n",
      "2020/06/02/15:00\n",
      "The total Volume is  93550 . Data is ready to download.\n",
      "This task, we downloaded 93 mentions.\n",
      "2020/06/02/18:00\n",
      "The total Volume is  89194 . Data is ready to download.\n",
      "This task, we downloaded 89 mentions.\n",
      "2020/06/02/21:00\n",
      "The total Volume  715343  is larger than the cap!\n",
      "This task, we downloaded 715 mentions.\n"
     ]
    }
   ],
   "source": [
    "driver = setup(Username, Password, Dashboard, Filters, Data_format, Sample)\n",
    "\n",
    "Begin_date_obj = date_obj(Begin_date) #2020/06/01/00/00\n",
    "End_date_obj = date_obj(End_date) #2020/06/02/23/59\n",
    "\n",
    "Delta = timedelta(hours=Time_interval) #3 hours\n",
    "\n",
    "\n",
    "#Run\n",
    "Current_time = Begin_date_obj\n",
    "while Current_time < End_date_obj:\n",
    "    print(strfdate(Current_time))\n",
    "    sampling(driver, Current_time, Delta)\n",
    "    dataexport(driver, Data_format, Sample)\n",
    "\n",
    "    Current_time += Delta"
   ]
  },
  {
   "cell_type": "code",
   "execution_count": null,
   "metadata": {},
   "outputs": [],
   "source": [
    "# 1. 写完时间递进\n",
    "# 2. 第二个版本写断点重连\n",
    "# 3. 第三个版本把尽量多的filter 情况列入进去"
   ]
  },
  {
   "cell_type": "code",
   "execution_count": null,
   "metadata": {},
   "outputs": [],
   "source": []
  },
  {
   "cell_type": "code",
   "execution_count": null,
   "metadata": {},
   "outputs": [],
   "source": []
  },
  {
   "cell_type": "code",
   "execution_count": 67,
   "metadata": {},
   "outputs": [],
   "source": []
  },
  {
   "cell_type": "code",
   "execution_count": 118,
   "metadata": {},
   "outputs": [],
   "source": [
    "current_time = Begin_date_obj\n",
    "Search = driver.find_elements_by_tag_name('input')\n",
    "Search[0].clear()\n",
    "Search[0].send_keys(Keys.BACKSPACE)\n"
   ]
  },
  {
   "cell_type": "code",
   "execution_count": 130,
   "metadata": {},
   "outputs": [],
   "source": [
    "Search[0].send_keys(Keys.BACKSPACE)"
   ]
  },
  {
   "cell_type": "code",
   "execution_count": 115,
   "metadata": {},
   "outputs": [],
   "source": [
    "Search[0].send_keys(strfdate(current_time)[:-6])\n",
    "\n",
    "time.sleep(0.5)\n",
    "\n",
    "Search[1].clear()\n",
    "Search[1].send_keys(strfdate(current_time)[11:])"
   ]
  },
  {
   "cell_type": "code",
   "execution_count": 97,
   "metadata": {},
   "outputs": [],
   "source": [
    "Begin_date_obj = date_obj(Begin_date)\n",
    "End_date_obj = date_obj(End_date)\n",
    "\n",
    "Delta_h3 = timedelta(hours=Time_interval)\n",
    "Delta_m1 = timedelta(mins=1)\n",
    "\n",
    "\n",
    "#run\n",
    "Current_time = Begin_date_obj\n",
    "while Current_time < End_date_obj:\n",
    "    \n",
    "    #do somegting here, take sample from current time to current time plus delta\n",
    "    Current_time += Delta\n",
    "    \n",
    "    "
   ]
  },
  {
   "cell_type": "code",
   "execution_count": 99,
   "metadata": {},
   "outputs": [
    {
     "data": {
      "text/plain": [
       "'2020/06/01/00:00'"
      ]
     },
     "execution_count": 99,
     "metadata": {},
     "output_type": "execute_result"
    }
   ],
   "source": [
    "strfdate(Begin_date_obj)"
   ]
  },
  {
   "cell_type": "code",
   "execution_count": 157,
   "metadata": {},
   "outputs": [],
   "source": [
    "End_time = End_date_obj"
   ]
  },
  {
   "cell_type": "code",
   "execution_count": 158,
   "metadata": {},
   "outputs": [
    {
     "data": {
      "text/plain": [
       "datetime.datetime(2020, 6, 2, 23, 59)"
      ]
     },
     "execution_count": 158,
     "metadata": {},
     "output_type": "execute_result"
    }
   ],
   "source": [
    "End_time"
   ]
  },
  {
   "cell_type": "code",
   "execution_count": 156,
   "metadata": {},
   "outputs": [
    {
     "data": {
      "text/plain": [
       "datetime.datetime(2020, 6, 1, 0, 0)"
      ]
     },
     "execution_count": 156,
     "metadata": {},
     "output_type": "execute_result"
    }
   ],
   "source": [
    "Current_time"
   ]
  },
  {
   "cell_type": "code",
   "execution_count": 4,
   "metadata": {},
   "outputs": [],
   "source": [
    "sett = driver.find_element_by_xpath('/html/body/div[1]/div/div/div/header/div[1]/div/div[2]/nav/div[3]/div/button')\n",
    "sett.click()\n",
    "time.sleep(1)"
   ]
  },
  {
   "cell_type": "code",
   "execution_count": 26,
   "metadata": {},
   "outputs": [],
   "source": [
    "export_button = driver.find_element_by_xpath('//*[@data-tracker-id= \"mention-modal-export-export-mention\"]')\n",
    "export_button.click()\n",
    "time.sleep(2)\n"
   ]
  },
  {
   "cell_type": "code",
   "execution_count": 21,
   "metadata": {},
   "outputs": [],
   "source": [
    "Modes = driver.find_elements_by_class_name('Radio_radio__92pzG')\n",
    "Modes[2].click()"
   ]
  },
  {
   "cell_type": "code",
   "execution_count": 17,
   "metadata": {},
   "outputs": [
    {
     "data": {
      "text/plain": [
       "[<selenium.webdriver.firefox.webelement.FirefoxWebElement (session=\"64a48f21-434c-1b4f-b57c-8eba1df9c29f\", element=\"20134ebc-0283-fd44-a0c1-d86bad2c4d26\")>]"
      ]
     },
     "execution_count": 17,
     "metadata": {},
     "output_type": "execute_result"
    }
   ],
   "source": [
    "Modes = driver.find_elements_by_xpath('/html/body/div[81]/div/div/div[1]/div[1]/div[1]/div')\n",
    "Modes"
   ]
  },
  {
   "cell_type": "code",
   "execution_count": 91,
   "metadata": {},
   "outputs": [],
   "source": [
    "\n",
    "\n",
    "#close the Topics section\n",
    "Topics = driver.find_element_by_xpath('//*[@data-tracker-id= \"filters-button-subtopic\"]')\n",
    "Topics.click()\n",
    "\n"
   ]
  },
  {
   "cell_type": "code",
   "execution_count": 20,
   "metadata": {},
   "outputs": [],
   "source": [
    "empty = driver.find_element_by_class_name('TopBarStructure_container__2gcEc')\n",
    "empty.click()\n"
   ]
  },
  {
   "cell_type": "code",
   "execution_count": 21,
   "metadata": {},
   "outputs": [],
   "source": [
    "chosen_language = driver.find_element_by_xpath('//*[@title=\"' + 'English' + '\"]')\n",
    "chosen_language.click()"
   ]
  },
  {
   "cell_type": "code",
   "execution_count": 22,
   "metadata": {},
   "outputs": [
    {
     "ename": "NoSuchElementException",
     "evalue": "Message: Unable to locate element: //*[@class=\"TopBarStructure_topbar__1ooLN\"]\n",
     "output_type": "error",
     "traceback": [
      "\u001b[0;31m---------------------------------------------------------------------------\u001b[0m",
      "\u001b[0;31mNoSuchElementException\u001b[0m                    Traceback (most recent call last)",
      "\u001b[0;32m<ipython-input-22-0501a84446a7>\u001b[0m in \u001b[0;36m<module>\u001b[0;34m\u001b[0m\n\u001b[0;32m----> 1\u001b[0;31m \u001b[0mempty\u001b[0m \u001b[0;34m=\u001b[0m \u001b[0mdriver\u001b[0m\u001b[0;34m.\u001b[0m\u001b[0mfind_element_by_xpath\u001b[0m\u001b[0;34m(\u001b[0m\u001b[0;34m'//*[@class=\"TopBarStructure_topbar__1ooLN\"]'\u001b[0m\u001b[0;34m)\u001b[0m\u001b[0;34m\u001b[0m\u001b[0;34m\u001b[0m\u001b[0m\n\u001b[0m\u001b[1;32m      2\u001b[0m \u001b[0mempty\u001b[0m\u001b[0;34m.\u001b[0m\u001b[0mclick\u001b[0m\u001b[0;34m(\u001b[0m\u001b[0;34m)\u001b[0m\u001b[0;34m\u001b[0m\u001b[0;34m\u001b[0m\u001b[0m\n",
      "\u001b[0;32m/usr/local/lib/python3.7/site-packages/selenium/webdriver/remote/webdriver.py\u001b[0m in \u001b[0;36mfind_element_by_xpath\u001b[0;34m(self, xpath)\u001b[0m\n\u001b[1;32m    392\u001b[0m             \u001b[0melement\u001b[0m \u001b[0;34m=\u001b[0m \u001b[0mdriver\u001b[0m\u001b[0;34m.\u001b[0m\u001b[0mfind_element_by_xpath\u001b[0m\u001b[0;34m(\u001b[0m\u001b[0;34m'//div/td[1]'\u001b[0m\u001b[0;34m)\u001b[0m\u001b[0;34m\u001b[0m\u001b[0;34m\u001b[0m\u001b[0m\n\u001b[1;32m    393\u001b[0m         \"\"\"\n\u001b[0;32m--> 394\u001b[0;31m         \u001b[0;32mreturn\u001b[0m \u001b[0mself\u001b[0m\u001b[0;34m.\u001b[0m\u001b[0mfind_element\u001b[0m\u001b[0;34m(\u001b[0m\u001b[0mby\u001b[0m\u001b[0;34m=\u001b[0m\u001b[0mBy\u001b[0m\u001b[0;34m.\u001b[0m\u001b[0mXPATH\u001b[0m\u001b[0;34m,\u001b[0m \u001b[0mvalue\u001b[0m\u001b[0;34m=\u001b[0m\u001b[0mxpath\u001b[0m\u001b[0;34m)\u001b[0m\u001b[0;34m\u001b[0m\u001b[0;34m\u001b[0m\u001b[0m\n\u001b[0m\u001b[1;32m    395\u001b[0m \u001b[0;34m\u001b[0m\u001b[0m\n\u001b[1;32m    396\u001b[0m     \u001b[0;32mdef\u001b[0m \u001b[0mfind_elements_by_xpath\u001b[0m\u001b[0;34m(\u001b[0m\u001b[0mself\u001b[0m\u001b[0;34m,\u001b[0m \u001b[0mxpath\u001b[0m\u001b[0;34m)\u001b[0m\u001b[0;34m:\u001b[0m\u001b[0;34m\u001b[0m\u001b[0;34m\u001b[0m\u001b[0m\n",
      "\u001b[0;32m/usr/local/lib/python3.7/site-packages/selenium/webdriver/remote/webdriver.py\u001b[0m in \u001b[0;36mfind_element\u001b[0;34m(self, by, value)\u001b[0m\n\u001b[1;32m    976\u001b[0m         return self.execute(Command.FIND_ELEMENT, {\n\u001b[1;32m    977\u001b[0m             \u001b[0;34m'using'\u001b[0m\u001b[0;34m:\u001b[0m \u001b[0mby\u001b[0m\u001b[0;34m,\u001b[0m\u001b[0;34m\u001b[0m\u001b[0;34m\u001b[0m\u001b[0m\n\u001b[0;32m--> 978\u001b[0;31m             'value': value})['value']\n\u001b[0m\u001b[1;32m    979\u001b[0m \u001b[0;34m\u001b[0m\u001b[0m\n\u001b[1;32m    980\u001b[0m     \u001b[0;32mdef\u001b[0m \u001b[0mfind_elements\u001b[0m\u001b[0;34m(\u001b[0m\u001b[0mself\u001b[0m\u001b[0;34m,\u001b[0m \u001b[0mby\u001b[0m\u001b[0;34m=\u001b[0m\u001b[0mBy\u001b[0m\u001b[0;34m.\u001b[0m\u001b[0mID\u001b[0m\u001b[0;34m,\u001b[0m \u001b[0mvalue\u001b[0m\u001b[0;34m=\u001b[0m\u001b[0;32mNone\u001b[0m\u001b[0;34m)\u001b[0m\u001b[0;34m:\u001b[0m\u001b[0;34m\u001b[0m\u001b[0;34m\u001b[0m\u001b[0m\n",
      "\u001b[0;32m/usr/local/lib/python3.7/site-packages/selenium/webdriver/remote/webdriver.py\u001b[0m in \u001b[0;36mexecute\u001b[0;34m(self, driver_command, params)\u001b[0m\n\u001b[1;32m    319\u001b[0m         \u001b[0mresponse\u001b[0m \u001b[0;34m=\u001b[0m \u001b[0mself\u001b[0m\u001b[0;34m.\u001b[0m\u001b[0mcommand_executor\u001b[0m\u001b[0;34m.\u001b[0m\u001b[0mexecute\u001b[0m\u001b[0;34m(\u001b[0m\u001b[0mdriver_command\u001b[0m\u001b[0;34m,\u001b[0m \u001b[0mparams\u001b[0m\u001b[0;34m)\u001b[0m\u001b[0;34m\u001b[0m\u001b[0;34m\u001b[0m\u001b[0m\n\u001b[1;32m    320\u001b[0m         \u001b[0;32mif\u001b[0m \u001b[0mresponse\u001b[0m\u001b[0;34m:\u001b[0m\u001b[0;34m\u001b[0m\u001b[0;34m\u001b[0m\u001b[0m\n\u001b[0;32m--> 321\u001b[0;31m             \u001b[0mself\u001b[0m\u001b[0;34m.\u001b[0m\u001b[0merror_handler\u001b[0m\u001b[0;34m.\u001b[0m\u001b[0mcheck_response\u001b[0m\u001b[0;34m(\u001b[0m\u001b[0mresponse\u001b[0m\u001b[0;34m)\u001b[0m\u001b[0;34m\u001b[0m\u001b[0;34m\u001b[0m\u001b[0m\n\u001b[0m\u001b[1;32m    322\u001b[0m             response['value'] = self._unwrap_value(\n\u001b[1;32m    323\u001b[0m                 response.get('value', None))\n",
      "\u001b[0;32m/usr/local/lib/python3.7/site-packages/selenium/webdriver/remote/errorhandler.py\u001b[0m in \u001b[0;36mcheck_response\u001b[0;34m(self, response)\u001b[0m\n\u001b[1;32m    240\u001b[0m                 \u001b[0malert_text\u001b[0m \u001b[0;34m=\u001b[0m \u001b[0mvalue\u001b[0m\u001b[0;34m[\u001b[0m\u001b[0;34m'alert'\u001b[0m\u001b[0;34m]\u001b[0m\u001b[0;34m.\u001b[0m\u001b[0mget\u001b[0m\u001b[0;34m(\u001b[0m\u001b[0;34m'text'\u001b[0m\u001b[0;34m)\u001b[0m\u001b[0;34m\u001b[0m\u001b[0;34m\u001b[0m\u001b[0m\n\u001b[1;32m    241\u001b[0m             \u001b[0;32mraise\u001b[0m \u001b[0mexception_class\u001b[0m\u001b[0;34m(\u001b[0m\u001b[0mmessage\u001b[0m\u001b[0;34m,\u001b[0m \u001b[0mscreen\u001b[0m\u001b[0;34m,\u001b[0m \u001b[0mstacktrace\u001b[0m\u001b[0;34m,\u001b[0m \u001b[0malert_text\u001b[0m\u001b[0;34m)\u001b[0m\u001b[0;34m\u001b[0m\u001b[0;34m\u001b[0m\u001b[0m\n\u001b[0;32m--> 242\u001b[0;31m         \u001b[0;32mraise\u001b[0m \u001b[0mexception_class\u001b[0m\u001b[0;34m(\u001b[0m\u001b[0mmessage\u001b[0m\u001b[0;34m,\u001b[0m \u001b[0mscreen\u001b[0m\u001b[0;34m,\u001b[0m \u001b[0mstacktrace\u001b[0m\u001b[0;34m)\u001b[0m\u001b[0;34m\u001b[0m\u001b[0;34m\u001b[0m\u001b[0m\n\u001b[0m\u001b[1;32m    243\u001b[0m \u001b[0;34m\u001b[0m\u001b[0m\n\u001b[1;32m    244\u001b[0m     \u001b[0;32mdef\u001b[0m \u001b[0m_value_or_default\u001b[0m\u001b[0;34m(\u001b[0m\u001b[0mself\u001b[0m\u001b[0;34m,\u001b[0m \u001b[0mobj\u001b[0m\u001b[0;34m,\u001b[0m \u001b[0mkey\u001b[0m\u001b[0;34m,\u001b[0m \u001b[0mdefault\u001b[0m\u001b[0;34m)\u001b[0m\u001b[0;34m:\u001b[0m\u001b[0;34m\u001b[0m\u001b[0;34m\u001b[0m\u001b[0m\n",
      "\u001b[0;31mNoSuchElementException\u001b[0m: Message: Unable to locate element: //*[@class=\"TopBarStructure_topbar__1ooLN\"]\n"
     ]
    }
   ],
   "source": [
    "empty = driver.find_element_by_xpath('//*[@class=\"TopBarStructure_topbar__1ooLN\"]')\n",
    "empty.click()"
   ]
  },
  {
   "cell_type": "code",
   "execution_count": null,
   "metadata": {},
   "outputs": [],
   "source": []
  },
  {
   "cell_type": "code",
   "execution_count": null,
   "metadata": {},
   "outputs": [],
   "source": []
  },
  {
   "cell_type": "markdown",
   "metadata": {},
   "source": [
    "## 2. User Input"
   ]
  },
  {
   "cell_type": "code",
   "execution_count": 8,
   "metadata": {},
   "outputs": [],
   "source": [
    "BeginM_input = 'January'\n",
    "BeginD_input = '1'\n",
    "EndM_input = 'January'\n",
    "EndD_input = '31'\n",
    "Media_input = 'Twitter'\n",
    "Language_input = 'English'\n",
    "Samplesize_input = 0.1\n",
    "s = 2\n",
    "#Country_inout = 'United States'"
   ]
  },
  {
   "cell_type": "code",
   "execution_count": 9,
   "metadata": {},
   "outputs": [],
   "source": [
    "#BeginM_input = input(\"Please Input The Begin Month: \")  #July\n",
    "#BeginD_input = input (\"Please Input The Begin Day: \") #3\n",
    "\n",
    "#EndM_input = input(\"Please Input The End Month: \") #July\n",
    "#EndD_input = input (\"Please Input The End Day: \") #4\n",
    "\n",
    "#Media_input = input('Please Input The Media Source: ') #Twitter\n",
    "\n",
    "#State_input = input('Please Input The State: ') #Wisconsin\n",
    "\n",
    "#Language_input = input('Please Input The Language: ') #English\n",
    "\n",
    "#Samplesize_input = input('Please Input The Sample Size:') "
   ]
  },
  {
   "cell_type": "markdown",
   "metadata": {},
   "source": [
    "### Rotate Calendar & Export Data"
   ]
  },
  {
   "cell_type": "code",
   "execution_count": 10,
   "metadata": {},
   "outputs": [
    {
     "name": "stdout",
     "output_type": "stream",
     "text": [
      "We currently have  4  Dashboards:  ['Market Research', 'MeToo', 'CAMER', 'Immigration']\n",
      "The location of the dashboard we are seeking for is: Index[ 2 ].\n",
      "Change iframe: Try 0 . Refresh 0 .\n",
      "Find Indicator: Try 0 . Refresh 0 .\n",
      "Date: January,1-January,1 /hour0   The total Volume is  1980 . Data is ready to download.\n"
     ]
    },
    {
     "ename": "NoSuchWindowException",
     "evalue": "Message: Browsing context has been discarded\n",
     "output_type": "error",
     "traceback": [
      "\u001b[0;31m---------------------------------------------------------------------------\u001b[0m",
      "\u001b[0;31mNoSuchWindowException\u001b[0m                     Traceback (most recent call last)",
      "\u001b[0;32m<ipython-input-10-4f836dfd4b72>\u001b[0m in \u001b[0;36m<module>\u001b[0;34m\u001b[0m\n\u001b[1;32m     26\u001b[0m     \u001b[0;32mfor\u001b[0m \u001b[0mj\u001b[0m \u001b[0;32min\u001b[0m \u001b[0mrange\u001b[0m\u001b[0;34m(\u001b[0m\u001b[0;36m22\u001b[0m\u001b[0;34m)\u001b[0m\u001b[0;34m[\u001b[0m\u001b[0;34m:\u001b[0m\u001b[0;34m:\u001b[0m\u001b[0;36m3\u001b[0m\u001b[0;34m]\u001b[0m\u001b[0;34m:\u001b[0m \u001b[0;31m#change the number in bracket, if every n hours, then the number is n\u001b[0m\u001b[0;34m\u001b[0m\u001b[0;34m\u001b[0m\u001b[0m\n\u001b[1;32m     27\u001b[0m     \u001b[0;31m#for j in range(24): #for loop for hour-level handling\u001b[0m\u001b[0;34m\u001b[0m\u001b[0;34m\u001b[0m\u001b[0;34m\u001b[0m\u001b[0m\n\u001b[0;32m---> 28\u001b[0;31m         \u001b[0mv\u001b[0m \u001b[0;34m=\u001b[0m \u001b[0mrun\u001b[0m\u001b[0;34m(\u001b[0m\u001b[0mdriver\u001b[0m\u001b[0;34m,\u001b[0m \u001b[0mi\u001b[0m\u001b[0;34m,\u001b[0m \u001b[0mj\u001b[0m\u001b[0;34m,\u001b[0m \u001b[0ms\u001b[0m\u001b[0;34m,\u001b[0m \u001b[0mBeginM_target\u001b[0m\u001b[0;34m,\u001b[0m \u001b[0mEndM_target\u001b[0m\u001b[0;34m,\u001b[0m \u001b[0mBeginD_target\u001b[0m\u001b[0;34m,\u001b[0m \u001b[0mEndD_target\u001b[0m\u001b[0;34m,\u001b[0m \u001b[0mSamplesize_input\u001b[0m\u001b[0;34m,\u001b[0m \u001b[0mLanguage_input\u001b[0m\u001b[0;34m)\u001b[0m\u001b[0;34m\u001b[0m\u001b[0;34m\u001b[0m\u001b[0m\n\u001b[0m\u001b[1;32m     29\u001b[0m         \u001b[0mvolumeRecord\u001b[0m\u001b[0;34m[\u001b[0m\u001b[0;34m(\u001b[0m\u001b[0mi\u001b[0m\u001b[0;34m,\u001b[0m\u001b[0mj\u001b[0m\u001b[0;34m)\u001b[0m\u001b[0;34m]\u001b[0m \u001b[0;34m=\u001b[0m \u001b[0mv\u001b[0m\u001b[0;34m\u001b[0m\u001b[0;34m\u001b[0m\u001b[0m\n\u001b[1;32m     30\u001b[0m \u001b[0;34m\u001b[0m\u001b[0m\n",
      "\u001b[0;32m~/Desktop/Codes/Python Codes/Selenium/utlis_v2.py\u001b[0m in \u001b[0;36mrun\u001b[0;34m(driver, i, j, s, BeginM_target, EndM_target, BeginD_target, EndD_target, Samplesize_input, Language_input)\u001b[0m\n\u001b[1;32m    535\u001b[0m     \u001b[0;32mwhile\u001b[0m \u001b[0mnum_try\u001b[0m \u001b[0;34m<=\u001b[0m \u001b[0;36m110\u001b[0m\u001b[0;34m:\u001b[0m \u001b[0;31m#change 50 to 10 if the total volume of a particular time unit is not too large\u001b[0m\u001b[0;34m\u001b[0m\u001b[0;34m\u001b[0m\u001b[0m\n\u001b[1;32m    536\u001b[0m         \u001b[0mnum_try\u001b[0m \u001b[0;34m+=\u001b[0m \u001b[0;36m1\u001b[0m\u001b[0;34m\u001b[0m\u001b[0;34m\u001b[0m\u001b[0m\n\u001b[0;32m--> 537\u001b[0;31m         \u001b[0msearchButton\u001b[0m \u001b[0;34m=\u001b[0m \u001b[0mdriver\u001b[0m\u001b[0;34m.\u001b[0m\u001b[0mfind_element_by_class_name\u001b[0m\u001b[0;34m(\u001b[0m\u001b[0;34m\"gb-export-btn\"\u001b[0m\u001b[0;34m)\u001b[0m\u001b[0;34m\u001b[0m\u001b[0;34m\u001b[0m\u001b[0m\n\u001b[0m\u001b[1;32m    538\u001b[0m         \u001b[0msearchButton\u001b[0m\u001b[0;34m.\u001b[0m\u001b[0mtext\u001b[0m\u001b[0;34m\u001b[0m\u001b[0;34m\u001b[0m\u001b[0m\n\u001b[1;32m    539\u001b[0m         \u001b[0;32mif\u001b[0m \u001b[0;34m'EXPORT'\u001b[0m \u001b[0;34m==\u001b[0m \u001b[0msearchButton\u001b[0m\u001b[0;34m.\u001b[0m\u001b[0mtext\u001b[0m\u001b[0;34m:\u001b[0m \u001b[0;31m#indicator\u001b[0m\u001b[0;34m\u001b[0m\u001b[0;34m\u001b[0m\u001b[0m\n",
      "\u001b[0;32m/usr/local/lib/python3.7/site-packages/selenium/webdriver/remote/webdriver.py\u001b[0m in \u001b[0;36mfind_element_by_class_name\u001b[0;34m(self, name)\u001b[0m\n\u001b[1;32m    562\u001b[0m             \u001b[0melement\u001b[0m \u001b[0;34m=\u001b[0m \u001b[0mdriver\u001b[0m\u001b[0;34m.\u001b[0m\u001b[0mfind_element_by_class_name\u001b[0m\u001b[0;34m(\u001b[0m\u001b[0;34m'foo'\u001b[0m\u001b[0;34m)\u001b[0m\u001b[0;34m\u001b[0m\u001b[0;34m\u001b[0m\u001b[0m\n\u001b[1;32m    563\u001b[0m         \"\"\"\n\u001b[0;32m--> 564\u001b[0;31m         \u001b[0;32mreturn\u001b[0m \u001b[0mself\u001b[0m\u001b[0;34m.\u001b[0m\u001b[0mfind_element\u001b[0m\u001b[0;34m(\u001b[0m\u001b[0mby\u001b[0m\u001b[0;34m=\u001b[0m\u001b[0mBy\u001b[0m\u001b[0;34m.\u001b[0m\u001b[0mCLASS_NAME\u001b[0m\u001b[0;34m,\u001b[0m \u001b[0mvalue\u001b[0m\u001b[0;34m=\u001b[0m\u001b[0mname\u001b[0m\u001b[0;34m)\u001b[0m\u001b[0;34m\u001b[0m\u001b[0;34m\u001b[0m\u001b[0m\n\u001b[0m\u001b[1;32m    565\u001b[0m \u001b[0;34m\u001b[0m\u001b[0m\n\u001b[1;32m    566\u001b[0m     \u001b[0;32mdef\u001b[0m \u001b[0mfind_elements_by_class_name\u001b[0m\u001b[0;34m(\u001b[0m\u001b[0mself\u001b[0m\u001b[0;34m,\u001b[0m \u001b[0mname\u001b[0m\u001b[0;34m)\u001b[0m\u001b[0;34m:\u001b[0m\u001b[0;34m\u001b[0m\u001b[0;34m\u001b[0m\u001b[0m\n",
      "\u001b[0;32m/usr/local/lib/python3.7/site-packages/selenium/webdriver/remote/webdriver.py\u001b[0m in \u001b[0;36mfind_element\u001b[0;34m(self, by, value)\u001b[0m\n\u001b[1;32m    976\u001b[0m         return self.execute(Command.FIND_ELEMENT, {\n\u001b[1;32m    977\u001b[0m             \u001b[0;34m'using'\u001b[0m\u001b[0;34m:\u001b[0m \u001b[0mby\u001b[0m\u001b[0;34m,\u001b[0m\u001b[0;34m\u001b[0m\u001b[0;34m\u001b[0m\u001b[0m\n\u001b[0;32m--> 978\u001b[0;31m             'value': value})['value']\n\u001b[0m\u001b[1;32m    979\u001b[0m \u001b[0;34m\u001b[0m\u001b[0m\n\u001b[1;32m    980\u001b[0m     \u001b[0;32mdef\u001b[0m \u001b[0mfind_elements\u001b[0m\u001b[0;34m(\u001b[0m\u001b[0mself\u001b[0m\u001b[0;34m,\u001b[0m \u001b[0mby\u001b[0m\u001b[0;34m=\u001b[0m\u001b[0mBy\u001b[0m\u001b[0;34m.\u001b[0m\u001b[0mID\u001b[0m\u001b[0;34m,\u001b[0m \u001b[0mvalue\u001b[0m\u001b[0;34m=\u001b[0m\u001b[0;32mNone\u001b[0m\u001b[0;34m)\u001b[0m\u001b[0;34m:\u001b[0m\u001b[0;34m\u001b[0m\u001b[0;34m\u001b[0m\u001b[0m\n",
      "\u001b[0;32m/usr/local/lib/python3.7/site-packages/selenium/webdriver/remote/webdriver.py\u001b[0m in \u001b[0;36mexecute\u001b[0;34m(self, driver_command, params)\u001b[0m\n\u001b[1;32m    319\u001b[0m         \u001b[0mresponse\u001b[0m \u001b[0;34m=\u001b[0m \u001b[0mself\u001b[0m\u001b[0;34m.\u001b[0m\u001b[0mcommand_executor\u001b[0m\u001b[0;34m.\u001b[0m\u001b[0mexecute\u001b[0m\u001b[0;34m(\u001b[0m\u001b[0mdriver_command\u001b[0m\u001b[0;34m,\u001b[0m \u001b[0mparams\u001b[0m\u001b[0;34m)\u001b[0m\u001b[0;34m\u001b[0m\u001b[0;34m\u001b[0m\u001b[0m\n\u001b[1;32m    320\u001b[0m         \u001b[0;32mif\u001b[0m \u001b[0mresponse\u001b[0m\u001b[0;34m:\u001b[0m\u001b[0;34m\u001b[0m\u001b[0;34m\u001b[0m\u001b[0m\n\u001b[0;32m--> 321\u001b[0;31m             \u001b[0mself\u001b[0m\u001b[0;34m.\u001b[0m\u001b[0merror_handler\u001b[0m\u001b[0;34m.\u001b[0m\u001b[0mcheck_response\u001b[0m\u001b[0;34m(\u001b[0m\u001b[0mresponse\u001b[0m\u001b[0;34m)\u001b[0m\u001b[0;34m\u001b[0m\u001b[0;34m\u001b[0m\u001b[0m\n\u001b[0m\u001b[1;32m    322\u001b[0m             response['value'] = self._unwrap_value(\n\u001b[1;32m    323\u001b[0m                 response.get('value', None))\n",
      "\u001b[0;32m/usr/local/lib/python3.7/site-packages/selenium/webdriver/remote/errorhandler.py\u001b[0m in \u001b[0;36mcheck_response\u001b[0;34m(self, response)\u001b[0m\n\u001b[1;32m    240\u001b[0m                 \u001b[0malert_text\u001b[0m \u001b[0;34m=\u001b[0m \u001b[0mvalue\u001b[0m\u001b[0;34m[\u001b[0m\u001b[0;34m'alert'\u001b[0m\u001b[0;34m]\u001b[0m\u001b[0;34m.\u001b[0m\u001b[0mget\u001b[0m\u001b[0;34m(\u001b[0m\u001b[0;34m'text'\u001b[0m\u001b[0;34m)\u001b[0m\u001b[0;34m\u001b[0m\u001b[0;34m\u001b[0m\u001b[0m\n\u001b[1;32m    241\u001b[0m             \u001b[0;32mraise\u001b[0m \u001b[0mexception_class\u001b[0m\u001b[0;34m(\u001b[0m\u001b[0mmessage\u001b[0m\u001b[0;34m,\u001b[0m \u001b[0mscreen\u001b[0m\u001b[0;34m,\u001b[0m \u001b[0mstacktrace\u001b[0m\u001b[0;34m,\u001b[0m \u001b[0malert_text\u001b[0m\u001b[0;34m)\u001b[0m\u001b[0;34m\u001b[0m\u001b[0;34m\u001b[0m\u001b[0m\n\u001b[0;32m--> 242\u001b[0;31m         \u001b[0;32mraise\u001b[0m \u001b[0mexception_class\u001b[0m\u001b[0;34m(\u001b[0m\u001b[0mmessage\u001b[0m\u001b[0;34m,\u001b[0m \u001b[0mscreen\u001b[0m\u001b[0;34m,\u001b[0m \u001b[0mstacktrace\u001b[0m\u001b[0;34m)\u001b[0m\u001b[0;34m\u001b[0m\u001b[0;34m\u001b[0m\u001b[0m\n\u001b[0m\u001b[1;32m    243\u001b[0m \u001b[0;34m\u001b[0m\u001b[0m\n\u001b[1;32m    244\u001b[0m     \u001b[0;32mdef\u001b[0m \u001b[0m_value_or_default\u001b[0m\u001b[0;34m(\u001b[0m\u001b[0mself\u001b[0m\u001b[0;34m,\u001b[0m \u001b[0mobj\u001b[0m\u001b[0;34m,\u001b[0m \u001b[0mkey\u001b[0m\u001b[0;34m,\u001b[0m \u001b[0mdefault\u001b[0m\u001b[0;34m)\u001b[0m\u001b[0;34m:\u001b[0m\u001b[0;34m\u001b[0m\u001b[0;34m\u001b[0m\u001b[0m\n",
      "\u001b[0;31mNoSuchWindowException\u001b[0m: Message: Browsing context has been discarded\n"
     ]
    }
   ],
   "source": [
    "driver = setup(Language_input)\n",
    "\n",
    "#---- Time Period ----# \n",
    "\n",
    "BeginM_target = BeginM_input\n",
    "BeginD_target = BeginD_input\n",
    "Begin_date_str = BeginM_target+','+BeginD_target+','+'2020'\n",
    "Begin_date_obj = datetime.datetime.strptime(Begin_date_str,'%B,%d,%Y')\n",
    "oneday = datetime.timedelta(days = 1)\n",
    "\n",
    "\n",
    "#End_date_obj = Begin_date_obj + oneday\n",
    "End_date_obj = Begin_date_obj\n",
    "EndM_target = End_date_obj.strftime('%B')\n",
    "EndD_target = str(End_date_obj.day)\n",
    "\n",
    "selection_index = 0\n",
    "\n",
    "day_range = 31 #specify the time period\n",
    "\n",
    "volumeRecord = {}\n",
    "\n",
    "for i in range(day_range): \n",
    "    #for j in [2, 4]: #input specific hour\n",
    "    #for j in range(9,22)[::3]:# only for repeatedly sampling\n",
    "    for j in range(22)[::3]: #change the number in bracket, if every n hours, then the number is n\n",
    "    #for j in range(24): #for loop for hour-level handling\n",
    "        v = run(driver, i, j, s, BeginM_target, EndM_target, BeginD_target, EndD_target, Samplesize_input, Language_input) \n",
    "        volumeRecord[(i,j)] = v\n",
    "        \n",
    "        d = i+0 #comment掉/随时改，取决于这里的实际日期在range中的位置\n",
    "        data = pd.read_csv(\"/Users/ze/Desktop/covid-19 test/volumeRecord.csv\")\n",
    "        data['Volume'][(data['Day'] == d) & (data['Hour'] == j)] = v #随时改，这边的d也可以换成i\n",
    "        data.to_csv(\"/Users/ze/Desktop/BAS_final/Codes/S1_Data Collection/volumeRecord.csv\", index = False)\n",
    "        \n",
    "        \n",
    "\n",
    "    BeginM_target = EndM_target\n",
    "    BeginD_target = EndD_target\n",
    "    Begin_date_str = BeginM_target+','+BeginD_target+','+'2020'\n",
    "    Begin_date_obj = datetime.datetime.strptime(Begin_date_str,'%B,%d,%Y')\n",
    "    oneday = datetime.timedelta(days = 1)\n",
    "    End_date_obj = Begin_date_obj + oneday\n",
    "    EndM_target = End_date_obj.strftime('%B')\n",
    "    EndD_target = str(End_date_obj.day)\n",
    "    BeginD_target = EndD_target"
   ]
  }
 ],
 "metadata": {
  "kernelspec": {
   "display_name": "Python 3",
   "language": "python",
   "name": "python3"
  },
  "language_info": {
   "codemirror_mode": {
    "name": "ipython",
    "version": 3
   },
   "file_extension": ".py",
   "mimetype": "text/x-python",
   "name": "python",
   "nbconvert_exporter": "python",
   "pygments_lexer": "ipython3",
   "version": "3.7.6"
  }
 },
 "nbformat": 4,
 "nbformat_minor": 4
}
